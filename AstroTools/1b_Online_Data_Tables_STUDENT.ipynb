{
 "cells": [
  {
   "cell_type": "markdown",
   "metadata": {},
   "source": [
    "# Using `coordinates` and `table` to match and compare catalogs.\n",
    "<img src='images/logo.png' width=200px align='right'>\n",
    "\n",
    "In this exercise we will have more fun with astronomical coordinates using `astropy.coordinates`.\n",
    "\n",
    "At the end the last notebook, we determined that HCG7 is in the SDSS imaging survey, so that means we can use the cells below to download catalogs of objects directly from the SDSS. Later on, we will match this catalog to another catalog covering the same field, allowing us to make plots using the combination of the two catalogs."
   ]
  },
  {
   "cell_type": "code",
   "execution_count": 49,
   "metadata": {},
   "outputs": [],
   "source": [
    "# Tools for connecting with web servers\n",
    "import urllib\n",
    "# Utilities for displaying images in jupyter notebooks\n",
    "import IPython.display\n",
    "# Numpy, what else can I say?\n",
    "import numpy as np"
   ]
  },
  {
   "cell_type": "code",
   "execution_count": 50,
   "metadata": {},
   "outputs": [],
   "source": [
    "# Display images in the browser window\n",
    "%matplotlib inline\n",
    "# Matplotlib, what else can I say?\n",
    "from matplotlib import pyplot as plt"
   ]
  },
  {
   "cell_type": "code",
   "execution_count": 51,
   "metadata": {},
   "outputs": [],
   "source": [
    "# Utilities particular to astropy\n",
    "from astropy import units as u\n",
    "from astropy.coordinates import SkyCoord\n",
    "from astropy.table import Table\n",
    "from astroquery.sdss import SDSS"
   ]
  },
  {
   "cell_type": "markdown",
   "metadata": {},
   "source": [
    "We will access the SDSS SQL database using the [astroquery](https://astroquery.readthedocs.org) affiliated package.  This will require an internet connection and a working install of astroquery. If you don't have these you can just skip down two cells, because the data files are provided with the repository. Depending on your version of astroquery it might also issue a warning, which you should be able to safely ignore."
   ]
  },
  {
   "cell_type": "code",
   "execution_count": 78,
   "metadata": {},
   "outputs": [],
   "source": [
    "hcg7_center = SkyCoord(9.81625*u.deg, 0.88806*u.deg, frame='icrs')"
   ]
  },
  {
   "cell_type": "code",
   "execution_count": 53,
   "metadata": {},
   "outputs": [],
   "source": [
    "# sdss = SDSS.query_region(coordinates=hcg7_center, radius=20*u.arcmin, \n",
    "#                          spectro=True, \n",
    "#                          photoobj_fields=['ra','dec','u','g','r','i','z'])"
   ]
  },
  {
   "cell_type": "markdown",
   "metadata": {},
   "source": [
    "`astroquery` queries gives us back an [`astropy.table.Table` object](http://docs.astropy.org/en/stable/table/index.html).  We could just work with this directly without saving anything to disk if we wanted to.  But here we will use the capability to  write to disk.  That way, if you quit the session and come back later, you don't have to run the query a second time.\n",
    "\n",
    "(Note that this won't work fail if you skipped the last step.  Don't worry, you can just skip to the next cell with ``Table.read`` and use the copy of this table included in the tutorial.)"
   ]
  },
  {
   "cell_type": "code",
   "execution_count": 54,
   "metadata": {},
   "outputs": [],
   "source": [
    "sdss = Table.read('data/HCG7_SDSS_photo.dat', format='ascii')"
   ]
  },
  {
   "cell_type": "code",
   "execution_count": 55,
   "metadata": {},
   "outputs": [],
   "source": [
    "ssds.write('data/HCG7_SDSS_photo.dat', format='ascii', overwrite=True)"
   ]
  },
  {
   "cell_type": "markdown",
   "metadata": {},
   "source": [
    "If you don't have internet, you can read the table into python by running the cell below.  But if you did the astroquery step above, you could skip this, as the table is already in memory as the `sdss` variable."
   ]
  },
  {
   "cell_type": "markdown",
   "metadata": {},
   "source": [
    "Ok, so we have a catalog of objects we got from the SDSS.  Now lets say you have your own catalog of objects in the same field that you want to match to this SDSS catalog.  In this case, we will use a catalog extracted from the [2MASS](http://www.ipac.caltech.edu/2mass/).  We first load up this catalog into python."
   ]
  },
  {
   "cell_type": "code",
   "execution_count": 56,
   "metadata": {},
   "outputs": [],
   "source": [
    "twomass = Table.read('data/HCG7_2MASS.tbl', format='ascii')"
   ]
  },
  {
   "cell_type": "markdown",
   "metadata": {},
   "source": [
    "Now to do matching we need `SkyCoord` objects.  We'll have to build these from the tables we loaded, but it turns out that's pretty straightforward: we grab the RA and dec columns from the table and provide them to the `SkyCoord` constructor.  Lets first have a look at the tables to see just what everything is that's in them."
   ]
  },
  {
   "cell_type": "code",
   "execution_count": 57,
   "metadata": {},
   "outputs": [
    {
     "data": {
      "text/html": [
       "<div><i>Table length=765</i>\n",
       "<table id=\"table10774706832\" class=\"table-striped table-bordered table-condensed\">\n",
       "<thead><tr><th>ra</th><th>dec</th><th>u</th><th>g</th><th>r</th><th>i</th><th>z</th></tr></thead>\n",
       "<thead><tr><th>float64</th><th>float64</th><th>float64</th><th>float64</th><th>float64</th><th>float64</th><th>float64</th></tr></thead>\n",
       "<tr><td>9.48301378408814</td><td>1.01446279778812</td><td>23.51845</td><td>22.13895</td><td>20.82912</td><td>19.92155</td><td>19.47135</td></tr>\n",
       "<tr><td>9.48341569139689</td><td>0.976399855054926</td><td>22.81118</td><td>22.03554</td><td>22.10897</td><td>22.14101</td><td>21.64411</td></tr>\n",
       "<tr><td>9.48404442918999</td><td>0.668844321347565</td><td>21.08944</td><td>18.71639</td><td>17.1889</td><td>15.90083</td><td>15.19136</td></tr>\n",
       "<tr><td>9.48407695277552</td><td>1.19045532333533</td><td>23.89431</td><td>22.32235</td><td>21.00772</td><td>19.96612</td><td>19.64056</td></tr>\n",
       "<tr><td>9.48440312780167</td><td>1.16365522098835</td><td>21.36359</td><td>20.86403</td><td>20.86694</td><td>20.54494</td><td>20.98261</td></tr>\n",
       "<tr><td>9.48516597211733</td><td>1.06970371044418</td><td>19.19686</td><td>17.4415</td><td>16.72897</td><td>16.46968</td><td>16.34503</td></tr>\n",
       "<tr><td>9.48663932955685</td><td>0.650341053923046</td><td>25.78184</td><td>22.76056</td><td>21.43424</td><td>20.43382</td><td>19.79225</td></tr>\n",
       "<tr><td>9.48670915066737</td><td>0.571826270065982</td><td>21.13963</td><td>18.75032</td><td>17.70842</td><td>17.32286</td><td>17.07478</td></tr>\n",
       "<tr><td>9.48841923342013</td><td>0.594765107669862</td><td>23.21057</td><td>25.03088</td><td>21.79477</td><td>20.54489</td><td>19.51502</td></tr>\n",
       "<tr><td>9.48888650786188</td><td>1.06993015820522</td><td>20.24263</td><td>19.56245</td><td>19.23878</td><td>18.90491</td><td>18.89328</td></tr>\n",
       "<tr><td>...</td><td>...</td><td>...</td><td>...</td><td>...</td><td>...</td><td>...</td></tr>\n",
       "<tr><td>10.1392589884418</td><td>0.670146700981361</td><td>25.80394</td><td>21.31805</td><td>19.59515</td><td>18.73705</td><td>18.21251</td></tr>\n",
       "<tr><td>10.1394307585864</td><td>0.819016780162646</td><td>20.48433</td><td>18.44921</td><td>17.17964</td><td>16.70726</td><td>16.33822</td></tr>\n",
       "<tr><td>10.1399018881062</td><td>0.797036662606013</td><td>22.8405</td><td>20.81193</td><td>19.22633</td><td>17.78909</td><td>17.02506</td></tr>\n",
       "<tr><td>10.1454819744166</td><td>0.760069230402542</td><td>20.91692</td><td>18.48687</td><td>17.25893</td><td>16.70655</td><td>16.37777</td></tr>\n",
       "<tr><td>10.1477509776522</td><td>0.765620871193193</td><td>23.50522</td><td>20.67564</td><td>19.15975</td><td>17.96652</td><td>17.35478</td></tr>\n",
       "<tr><td>10.1479803588988</td><td>0.574160771289044</td><td>17.91764</td><td>16.90715</td><td>16.59961</td><td>16.47519</td><td>16.45272</td></tr>\n",
       "<tr><td>10.1483527164502</td><td>0.74214967340737</td><td>22.88636</td><td>21.9266</td><td>21.77138</td><td>21.84416</td><td>22.15139</td></tr>\n",
       "<tr><td>10.1488025239834</td><td>0.587373872299668</td><td>22.55249</td><td>23.22467</td><td>20.78192</td><td>19.38414</td><td>18.72086</td></tr>\n",
       "<tr><td>10.1489640575468</td><td>0.970950543678269</td><td>23.07818</td><td>20.74787</td><td>19.41378</td><td>18.7055</td><td>18.30327</td></tr>\n",
       "<tr><td>10.1494930726124</td><td>0.863407223620815</td><td>22.78538</td><td>20.0088</td><td>18.55131</td><td>17.68612</td><td>17.24345</td></tr>\n",
       "</table></div>"
      ],
      "text/plain": [
       "<Table length=765>\n",
       "       ra               dec           u        g        r        i        z    \n",
       "    float64           float64      float64  float64  float64  float64  float64 \n",
       "---------------- ----------------- -------- -------- -------- -------- --------\n",
       "9.48301378408814  1.01446279778812 23.51845 22.13895 20.82912 19.92155 19.47135\n",
       "9.48341569139689 0.976399855054926 22.81118 22.03554 22.10897 22.14101 21.64411\n",
       "9.48404442918999 0.668844321347565 21.08944 18.71639  17.1889 15.90083 15.19136\n",
       "9.48407695277552  1.19045532333533 23.89431 22.32235 21.00772 19.96612 19.64056\n",
       "9.48440312780167  1.16365522098835 21.36359 20.86403 20.86694 20.54494 20.98261\n",
       "9.48516597211733  1.06970371044418 19.19686  17.4415 16.72897 16.46968 16.34503\n",
       "9.48663932955685 0.650341053923046 25.78184 22.76056 21.43424 20.43382 19.79225\n",
       "9.48670915066737 0.571826270065982 21.13963 18.75032 17.70842 17.32286 17.07478\n",
       "9.48841923342013 0.594765107669862 23.21057 25.03088 21.79477 20.54489 19.51502\n",
       "9.48888650786188  1.06993015820522 20.24263 19.56245 19.23878 18.90491 18.89328\n",
       "             ...               ...      ...      ...      ...      ...      ...\n",
       "10.1392589884418 0.670146700981361 25.80394 21.31805 19.59515 18.73705 18.21251\n",
       "10.1394307585864 0.819016780162646 20.48433 18.44921 17.17964 16.70726 16.33822\n",
       "10.1399018881062 0.797036662606013  22.8405 20.81193 19.22633 17.78909 17.02506\n",
       "10.1454819744166 0.760069230402542 20.91692 18.48687 17.25893 16.70655 16.37777\n",
       "10.1477509776522 0.765620871193193 23.50522 20.67564 19.15975 17.96652 17.35478\n",
       "10.1479803588988 0.574160771289044 17.91764 16.90715 16.59961 16.47519 16.45272\n",
       "10.1483527164502  0.74214967340737 22.88636  21.9266 21.77138 21.84416 22.15139\n",
       "10.1488025239834 0.587373872299668 22.55249 23.22467 20.78192 19.38414 18.72086\n",
       "10.1489640575468 0.970950543678269 23.07818 20.74787 19.41378  18.7055 18.30327\n",
       "10.1494930726124 0.863407223620815 22.78538  20.0088 18.55131 17.68612 17.24345"
      ]
     },
     "execution_count": 57,
     "metadata": {},
     "output_type": "execute_result"
    }
   ],
   "source": [
    "sdss # just to see an example of the format"
   ]
  },
  {
   "cell_type": "code",
   "execution_count": 58,
   "metadata": {},
   "outputs": [
    {
     "data": {
      "text/html": [
       "<div><i>Table length=23</i>\n",
       "<table id=\"table10775652112\" class=\"table-striped table-bordered table-condensed\">\n",
       "<thead><tr><th>designation</th><th>ra</th><th>dec</th><th>r_k20fe</th><th>j_m_k20fe</th><th>j_msig_k20fe</th><th>j_flg_k20fe</th><th>h_m_k20fe</th><th>h_msig_k20fe</th><th>h_flg_k20fe</th><th>k_m_k20fe</th><th>k_msig_k20fe</th><th>k_flg_k20fe</th><th>k_ba</th><th>k_phi</th><th>sup_ba</th><th>sup_phi</th><th>r_ext</th><th>j_m_ext</th><th>j_msig_ext</th><th>h_m_ext</th><th>h_msig_ext</th><th>k_m_ext</th><th>k_msig_ext</th><th>cc_flg</th><th>dist</th><th>angle</th></tr></thead>\n",
       "<thead><tr><th></th><th>deg</th><th>deg</th><th>arcsec</th><th>mag</th><th>mag</th><th></th><th>mag</th><th>mag</th><th></th><th>mag</th><th>mag</th><th></th><th></th><th>deg</th><th></th><th>deg</th><th>arcsec</th><th>mag</th><th>mag</th><th>mag</th><th>mag</th><th>mag</th><th>mag</th><th></th><th>arcsec</th><th>deg</th></tr></thead>\n",
       "<thead><tr><th>str16</th><th>float64</th><th>float64</th><th>float64</th><th>float64</th><th>float64</th><th>int64</th><th>float64</th><th>float64</th><th>int64</th><th>float64</th><th>float64</th><th>int64</th><th>float64</th><th>int64</th><th>float64</th><th>int64</th><th>float64</th><th>float64</th><th>float64</th><th>float64</th><th>float64</th><th>float64</th><th>float64</th><th>str1</th><th>float64</th><th>float64</th></tr></thead>\n",
       "<tr><td>00402069+0052508</td><td>10.086218</td><td>0.880798</td><td>9.4</td><td>13.835</td><td>0.068</td><td>0</td><td>13.01</td><td>0.086</td><td>0</td><td>12.588</td><td>0.089</td><td>0</td><td>0.8</td><td>70</td><td>0.82</td><td>35</td><td>18.62</td><td>13.632</td><td>0.088</td><td>12.744</td><td>0.104</td><td>12.398</td><td>0.105</td><td>0</td><td>972.120611</td><td>91.538952</td></tr>\n",
       "<tr><td>00395984+0103545</td><td>9.99935</td><td>1.06514</td><td>12.9</td><td>12.925</td><td>0.035</td><td>0</td><td>12.183</td><td>0.042</td><td>0</td><td>11.89</td><td>0.067</td><td>0</td><td>0.8</td><td>35</td><td>0.7</td><td>40</td><td>35.9</td><td>12.469</td><td>0.048</td><td>11.91</td><td>0.066</td><td>11.522</td><td>0.087</td><td>0</td><td>916.927636</td><td>45.951861</td></tr>\n",
       "<tr><td>00401849+0049448</td><td>10.077062</td><td>0.82913</td><td>6.0</td><td>14.918</td><td>0.086</td><td>0</td><td>14.113</td><td>0.107</td><td>0</td><td>13.714</td><td>0.103</td><td>0</td><td>0.6</td><td>-15</td><td>1.0</td><td>90</td><td>11.35</td><td>14.631</td><td>0.121</td><td>13.953</td><td>0.169</td><td>13.525</td><td>0.161</td><td>0</td><td>962.489231</td><td>102.73149</td></tr>\n",
       "<tr><td>00395277+0057124</td><td>9.969907</td><td>0.953472</td><td>5.3</td><td>14.702</td><td>0.049</td><td>0</td><td>14.248</td><td>0.069</td><td>0</td><td>13.899</td><td>0.095</td><td>0</td><td>0.6</td><td>-60</td><td>0.44</td><td>-50</td><td>10.59</td><td>14.62</td><td>0.144</td><td>14.15</td><td>0.296</td><td>13.73</td><td>0.2</td><td>0</td><td>601.136444</td><td>66.93659</td></tr>\n",
       "<tr><td>00401864+0047245</td><td>10.077704</td><td>0.790143</td><td>7.6</td><td>15.585</td><td>0.134</td><td>1</td><td>15.003</td><td>0.18</td><td>1</td><td>14.049</td><td>0.142</td><td>1</td><td>0.5</td><td>30</td><td>0.46</td><td>30</td><td>14.48</td><td>14.977</td><td>0.138</td><td>14.855</td><td>0.303</td><td>13.653</td><td>0.18</td><td>0</td><td>1004.982128</td><td>110.53147</td></tr>\n",
       "<tr><td>00393485+0051355</td><td>9.895219</td><td>0.859882</td><td>39.3</td><td>11.415</td><td>0.031</td><td>3</td><td>10.755</td><td>0.044</td><td>3</td><td>10.514</td><td>0.068</td><td>3</td><td>0.6</td><td>-30</td><td>0.7</td><td>-60</td><td>92.29</td><td>11.415</td><td>0.018</td><td>10.155</td><td>0.054</td><td>9.976</td><td>0.085</td><td>0</td><td>301.813395</td><td>109.639102</td></tr>\n",
       "<tr><td>00392964+0103495</td><td>9.873526</td><td>1.063769</td><td>10.9</td><td>14.463</td><td>0.065</td><td>0</td><td>13.618</td><td>0.067</td><td>0</td><td>13.258</td><td>0.091</td><td>0</td><td>0.4</td><td>55</td><td>0.28</td><td>60</td><td>20.35</td><td>14.2</td><td>0.086</td><td>13.363</td><td>0.091</td><td>13.101</td><td>0.133</td><td>0</td><td>665.301415</td><td>18.051526</td></tr>\n",
       "<tr><td>00403343+0049079</td><td>10.139293</td><td>0.818865</td><td>5.0</td><td>15.484</td><td>0.15</td><td>0</td><td>--</td><td>--</td><td>--</td><td>13.97</td><td>0.137</td><td>0</td><td>1.0</td><td>90</td><td>1.0</td><td>90</td><td>10.05</td><td>15.035</td><td>0.183</td><td>14.725</td><td>0.0</td><td>13.654</td><td>0.189</td><td>0</td><td>1189.207905</td><td>102.088788</td></tr>\n",
       "<tr><td>00393319+0035505</td><td>9.888305</td><td>0.597381</td><td>11.5</td><td>13.156</td><td>0.033</td><td>0</td><td>12.509</td><td>0.043</td><td>0</td><td>12.073</td><td>0.059</td><td>0</td><td>0.6</td><td>-55</td><td>0.52</td><td>-40</td><td>21.64</td><td>13.026</td><td>0.04</td><td>12.247</td><td>0.046</td><td>11.978</td><td>0.065</td><td>0</td><td>1078.11027</td><td>166.0785</td></tr>\n",
       "<tr><td>...</td><td>...</td><td>...</td><td>...</td><td>...</td><td>...</td><td>...</td><td>...</td><td>...</td><td>...</td><td>...</td><td>...</td><td>...</td><td>...</td><td>...</td><td>...</td><td>...</td><td>...</td><td>...</td><td>...</td><td>...</td><td>...</td><td>...</td><td>...</td><td>...</td><td>...</td><td>...</td></tr>\n",
       "<tr><td>00391798+0041588</td><td>9.824936</td><td>0.699687</td><td>6.1</td><td>15.685</td><td>0.168</td><td>0</td><td>14.89</td><td>0.191</td><td>0</td><td>14.003</td><td>0.155</td><td>0</td><td>1.0</td><td>90</td><td>1.0</td><td>90</td><td>11.4</td><td>15.677</td><td>0.312</td><td>14.415</td><td>0.226</td><td>13.568</td><td>0.19</td><td>0</td><td>678.863209</td><td>177.360117</td></tr>\n",
       "<tr><td>00384796+0034572</td><td>9.699858</td><td>0.582578</td><td>5.1</td><td>14.925</td><td>0.077</td><td>0</td><td>14.224</td><td>0.114</td><td>0</td><td>13.536</td><td>0.079</td><td>0</td><td>1.0</td><td>90</td><td>1.0</td><td>90</td><td>10.2</td><td>14.839</td><td>0.133</td><td>14.111</td><td>0.192</td><td>13.461</td><td>0.137</td><td>0</td><td>1176.842625</td><td>200.856597</td></tr>\n",
       "<tr><td>00390392+0050579</td><td>9.766345</td><td>0.849419</td><td>5.0</td><td>14.895</td><td>0.07</td><td>0</td><td>14.238</td><td>0.087</td><td>0</td><td>13.834</td><td>0.11</td><td>0</td><td>1.0</td><td>90</td><td>1.0</td><td>90</td><td>10.05</td><td>14.706</td><td>0.107</td><td>14.033</td><td>0.132</td><td>13.75</td><td>0.187</td><td>0</td><td>227.201453</td><td>232.24689</td></tr>\n",
       "<tr><td>00391339+0051508</td><td>9.805797</td><td>0.864135</td><td>52.8</td><td>10.362</td><td>0.014</td><td>0</td><td>9.631</td><td>0.017</td><td>0</td><td>9.334</td><td>0.024</td><td>0</td><td>0.3</td><td>-15</td><td>0.4</td><td>-15</td><td>75.02</td><td>10.279</td><td>0.015</td><td>9.527</td><td>0.016</td><td>9.247</td><td>0.023</td><td>0</td><td>93.990015</td><td>203.598476</td></tr>\n",
       "<tr><td>00391786+0054458</td><td>9.824418</td><td>0.912743</td><td>27.9</td><td>11.082</td><td>0.016</td><td>0</td><td>10.384</td><td>0.022</td><td>0</td><td>10.147</td><td>0.032</td><td>0</td><td>0.5</td><td>5</td><td>0.7</td><td>5</td><td>42.75</td><td>10.914</td><td>0.018</td><td>10.251</td><td>0.021</td><td>10.031</td><td>0.03</td><td>0</td><td>93.596555</td><td>18.308033</td></tr>\n",
       "<tr><td>00385879+0057269</td><td>9.744971</td><td>0.957478</td><td>5.0</td><td>15.535</td><td>0.122</td><td>0</td><td>14.796</td><td>0.145</td><td>0</td><td>14.278</td><td>0.165</td><td>0</td><td>1.0</td><td>90</td><td>1.0</td><td>90</td><td>10.05</td><td>15.535</td><td>0.122</td><td>14.623</td><td>0.227</td><td>14.147</td><td>0.269</td><td>0</td><td>358.163568</td><td>314.246475</td></tr>\n",
       "<tr><td>00391879+0053308</td><td>9.828303</td><td>0.891909</td><td>15.4</td><td>13.044</td><td>0.047</td><td>0</td><td>12.412</td><td>0.063</td><td>0</td><td>12.077</td><td>0.094</td><td>0</td><td>0.8</td><td>60</td><td>0.74</td><td>65</td><td>23.62</td><td>12.755</td><td>0.048</td><td>12.283</td><td>0.072</td><td>11.713</td><td>0.096</td><td>0</td><td>45.544562</td><td>72.287562</td></tr>\n",
       "<tr><td>00391213+0102408</td><td>9.80055</td><td>1.044691</td><td>5.0</td><td>15.568</td><td>0.126</td><td>0</td><td>15.047</td><td>0.181</td><td>0</td><td>14.356</td><td>0.176</td><td>0</td><td>1.0</td><td>90</td><td>1.0</td><td>90</td><td>10.05</td><td>15.295</td><td>0.181</td><td>15.047</td><td>0.181</td><td>14.067</td><td>0.25</td><td>0</td><td>566.696375</td><td>354.276982</td></tr>\n",
       "<tr><td>00383990+0104442</td><td>9.666268</td><td>1.078968</td><td>5.3</td><td>15.255</td><td>0.108</td><td>0</td><td>14.232</td><td>0.121</td><td>0</td><td>13.873</td><td>0.113</td><td>0</td><td>1.0</td><td>90</td><td>1.0</td><td>90</td><td>10.44</td><td>15.151</td><td>0.18</td><td>13.812</td><td>0.149</td><td>13.552</td><td>0.155</td><td>0</td><td>873.946372</td><td>321.851314</td></tr>\n",
       "<tr><td>00384916+0050212</td><td>9.704872</td><td>0.839244</td><td>5.1</td><td>15.075</td><td>0.088</td><td>0</td><td>14.651</td><td>0.17</td><td>0</td><td>13.804</td><td>0.101</td><td>0</td><td>1.0</td><td>90</td><td>1.0</td><td>90</td><td>10.2</td><td>15.053</td><td>0.159</td><td>14.651</td><td>0.17</td><td>13.682</td><td>0.171</td><td>0</td><td>437.740484</td><td>246.331036</td></tr>\n",
       "</table></div>"
      ],
      "text/plain": [
       "<Table length=23>\n",
       "  designation        ra      dec    r_k20fe ... cc_flg     dist      angle   \n",
       "                    deg      deg     arcsec ...           arcsec      deg    \n",
       "     str16        float64  float64  float64 ...  str1    float64    float64  \n",
       "---------------- --------- -------- ------- ... ------ ----------- ----------\n",
       "00402069+0052508 10.086218 0.880798     9.4 ...      0  972.120611  91.538952\n",
       "00395984+0103545   9.99935  1.06514    12.9 ...      0  916.927636  45.951861\n",
       "00401849+0049448 10.077062  0.82913     6.0 ...      0  962.489231  102.73149\n",
       "00395277+0057124  9.969907 0.953472     5.3 ...      0  601.136444   66.93659\n",
       "00401864+0047245 10.077704 0.790143     7.6 ...      0 1004.982128  110.53147\n",
       "00393485+0051355  9.895219 0.859882    39.3 ...      0  301.813395 109.639102\n",
       "00392964+0103495  9.873526 1.063769    10.9 ...      0  665.301415  18.051526\n",
       "00403343+0049079 10.139293 0.818865     5.0 ...      0 1189.207905 102.088788\n",
       "00393319+0035505  9.888305 0.597381    11.5 ...      0  1078.11027   166.0785\n",
       "             ...       ...      ...     ... ...    ...         ...        ...\n",
       "00391798+0041588  9.824936 0.699687     6.1 ...      0  678.863209 177.360117\n",
       "00384796+0034572  9.699858 0.582578     5.1 ...      0 1176.842625 200.856597\n",
       "00390392+0050579  9.766345 0.849419     5.0 ...      0  227.201453  232.24689\n",
       "00391339+0051508  9.805797 0.864135    52.8 ...      0   93.990015 203.598476\n",
       "00391786+0054458  9.824418 0.912743    27.9 ...      0   93.596555  18.308033\n",
       "00385879+0057269  9.744971 0.957478     5.0 ...      0  358.163568 314.246475\n",
       "00391879+0053308  9.828303 0.891909    15.4 ...      0   45.544562  72.287562\n",
       "00391213+0102408   9.80055 1.044691     5.0 ...      0  566.696375 354.276982\n",
       "00383990+0104442  9.666268 1.078968     5.3 ...      0  873.946372 321.851314\n",
       "00384916+0050212  9.704872 0.839244     5.1 ...      0  437.740484 246.331036"
      ]
     },
     "execution_count": 58,
     "metadata": {},
     "output_type": "execute_result"
    }
   ],
   "source": [
    "twomass # just to see an example of the format"
   ]
  },
  {
   "cell_type": "markdown",
   "metadata": {},
   "source": [
    "OK, looks like they both have ``ra`` and ``dec`` columns, so we should be able to use that to make `SkyCoord`s.\n",
    "\n",
    "You might first think you need to create a separate `SkyCoord` for *every* row in the table, given that up until now all `SkyCoord`s we made were for just a single point.  You could do this, but it will make your code much slower.  Instead, `SkyCoord` supports *arrays* of coordinate values - you just pass in array-like inputs (array `Quantity`s, lists of strings, `Table` columns, etc.), and `SkyCoord` will happily do all of its operations element-wise."
   ]
  },
  {
   "cell_type": "code",
   "execution_count": 59,
   "metadata": {},
   "outputs": [],
   "source": [
    "coo_sdss = SkyCoord(sdss['ra']*u.deg, sdss['dec']*u.deg)\n",
    "coo_twomass = SkyCoord(twomass['ra'], twomass['dec'])"
   ]
  },
  {
   "cell_type": "markdown",
   "metadata": {},
   "source": [
    "Note a subtle difference here: you had to give units for SDSS but *not* for 2MASS.  This is because the 2MASS table has units associated with the columns, while the SDSS table does not (so you have to put them in manually).\n",
    "\n",
    "Now we simply use the ``SkyCoord.match_to_catalog_sky`` method to match the two catalogs. Note that order matters: we're matching 2MASS to SDSS because there are many *more* entires in the SDSS, so it seems likely that most 2MASS objects are in SDSS (but not vice versa)."
   ]
  },
  {
   "cell_type": "code",
   "execution_count": 60,
   "metadata": {},
   "outputs": [],
   "source": [
    "idx_sdss, d2d_sdss, d3d_sdss = coo_twomass.match_to_catalog_sky(coo_sdss)"
   ]
  },
  {
   "cell_type": "markdown",
   "metadata": {},
   "source": [
    "``idx`` are the indecies into ``coo_sdss`` that get the closest matches, while ``d2d`` and ``d3d`` are the on-sky and real-space distances between the matches. In our case ``d3d`` can be ignored because we didn't give a line-of-sight distance, so its value is not particularly useful.   But ``d2d`` provides a good diagnosis of whether we actually have real matches:"
   ]
  },
  {
   "cell_type": "code",
   "execution_count": 61,
   "metadata": {},
   "outputs": [
    {
     "data": {
      "image/png": "[encoded data removed]",
      "text/plain": [
       "<Figure size 640x480 with 1 Axes>"
      ]
     },
     "metadata": {},
     "output_type": "display_data"
    }
   ],
   "source": [
    "plt.hist(d2d_sdss.arcsec, histtype='step', range=(0,2))\n",
    "plt.xlabel('separation [arcsec]')\n",
    "plt.tight_layout()"
   ]
  },
  {
   "cell_type": "markdown",
   "metadata": {},
   "source": [
    "Alright, great - looks like randomly placed sources should be more like an arc*minute* away, so we can probably trust that our earlier matches which were within an arc*second* are valid.  So with that in mind, we can start computing things like colors that combine the SDSS and 2MASS photometry."
   ]
  },
  {
   "cell_type": "code",
   "execution_count": 62,
   "metadata": {},
   "outputs": [
    {
     "data": {
      "image/png": "[encoded data removed]",
      "text/plain": [
       "<Figure size 640x480 with 2 Axes>"
      ]
     },
     "metadata": {},
     "output_type": "display_data"
    }
   ],
   "source": [
    "rmag = sdss['r'][idx_sdss]\n",
    "grcolor = sdss['g'][idx_sdss] - rmag\n",
    "rKcolor = rmag - twomass['k_m_ext']\n",
    "\n",
    "plt.subplot(1, 2, 1)\n",
    "plt.scatter(rKcolor, rmag)\n",
    "plt.xlabel('r-K')\n",
    "plt.ylabel('r')\n",
    "plt.xlim(2.5, 4)\n",
    "plt.ylim(18, 12) #mags go backwards!\n",
    "\n",
    "plt.subplot(1, 2, 2)\n",
    "plt.scatter(rKcolor, rmag)\n",
    "plt.xlabel('r-K')\n",
    "plt.ylabel('g-r')\n",
    "plt.xlim(2.5, 4)\n",
    "\n",
    "plt.tight_layout()"
   ]
  },
  {
   "cell_type": "markdown",
   "metadata": {},
   "source": [
    "For more on what matching options are available, check out the [separation and matching section of the astropy documentation](http://astropy.readthedocs.org/en/latest/coordinates/matchsep.html).  Or for more on what you can do with `SkyCoord`, see [its API documentation](http://astropy.readthedocs.org/en/latest/api/astropy.coordinates.SkyCoord.html)."
   ]
  },
  {
   "cell_type": "markdown",
   "metadata": {},
   "source": [
    "### Exercises"
   ]
  },
  {
   "cell_type": "markdown",
   "metadata": {},
   "source": [
    "Check that the separations in the ``d2d_sdss`` object matches the on-sky separations you get from comparing the appropriate elements of ``coo_sdss`` to the ``coo_twomass``. (Recall that the \"appropriate elements\" have already been determined above.  Be sure to re-use that!) \n",
    "\n",
    "Hint: You'll likely find the [``SkyCoord.separation()``](http://docs.astropy.org/en/stable/api/astropy.coordinates.SkyCoord.html#astropy.coordinates.SkyCoord.separation) method useful here."
   ]
  },
  {
   "cell_type": "code",
   "execution_count": 77,
   "metadata": {},
   "outputs": [
    {
     "data": {
      "text/plain": [
       "Text(0.5, 0, 'Separation [arcsec] between SDSS and 2MASS')"
      ]
     },
     "execution_count": 77,
     "metadata": {},
     "output_type": "execute_result"
    },
    {
     "data": {
      "image/png": "[encoded data removed]",
      "text/plain": [
       "<Figure size 640x480 with 1 Axes>"
      ]
     },
     "metadata": {},
     "output_type": "display_data"
    }
   ],
   "source": [
    "coo_sep = SkyCoord.separation(coo_sdss[idx_sdss], coo_twomass)\n",
    "\n",
    "plt.hist(coo_sep.arcsec, histtype='step', range=(0,2))\n",
    "plt.xlabel('Separation [arcsec] between SDSS and 2MASS')"
   ]
  },
  {
   "cell_type": "markdown",
   "metadata": {},
   "source": [
    "Use the `SkyCoord` you created at the start of the last exercise: what is its on-sky separation from the center of HCG7?"
   ]
  },
  {
   "cell_type": "code",
   "execution_count": 93,
   "metadata": {},
   "outputs": [
    {
     "name": "stdout",
     "output_type": "stream",
     "text": [
      "126.35578736854853 degrees\n"
     ]
    }
   ],
   "source": [
    "boomerang = SkyCoord.from_name('Boomerang Nebula')\n",
    "\n",
    "sep2 = hcg7_center.separation(boomerang) #Another way to do it\n",
    "print(f\"{sep2.deg} degrees\")"
   ]
  }
 ],
 "metadata": {
  "astropy-tutorials": {
   "author": "Erik Tollerud <erik.tollerud@gmail.com>",
   "date": "July 2015",
   "description": "Demonstrates use of astropy.coordinates for common tasks. Includes matching catalogs against each other, basic observing planning tasks, and basic usage of coordinates.",
   "link_name": "Using astropy.coordinates to Match Catalogs and Plan Observations",
   "name": "",
   "published": true
  },
  "kernelspec": {
   "display_name": "physics",
   "language": "python",
   "name": "python3"
  },
  "language_info": {
   "codemirror_mode": {
    "name": "ipython",
    "version": 3
   },
   "file_extension": ".py",
   "mimetype": "text/x-python",
   "name": "python",
   "nbconvert_exporter": "python",
   "pygments_lexer": "ipython3",
   "version": "3.10.9"
  },
  "vscode": {
   "interpreter": {
    "hash": "8c0008a63cbce5541b622949efed1339d14e23e32a2f2a739ba9033548bd2f0e"
   }
  }
 },
 "nbformat": 4,
 "nbformat_minor": 1
}
