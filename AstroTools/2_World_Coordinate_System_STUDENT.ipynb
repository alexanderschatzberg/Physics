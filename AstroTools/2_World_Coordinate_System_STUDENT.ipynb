{
 "cells": [
  {
   "cell_type": "markdown",
   "metadata": {},
   "source": [
    "# Using the World Coordinate System (WCS)<img src='images/logo.png' width=\"300\" height=\"300\" align='right'>\n",
    "\n",
    "So now you have some understanding of astronomical coordinates, and you know some basics about the Flexible Image Transport System (FITS). However, we have not looked closely at how the location on the sky is encoded into the FITS image and how to utilize this information for your benefit. \n",
    "\n",
    "The most important transformation that you will want to do is to map a sky coordinate to a pixel coordinate on your image, or vice-versa. For instance, if I gave you the RA and Dec coordinates of a star, you will want to be able to identify which x and y pixel coordinates that sky coordinate corresponds to in your image. This tutorial will focus on that precise task. In the end you will be identifying which star is Tabby's Star in an image provided for you."
   ]
  },
  {
   "cell_type": "code",
   "execution_count": null,
   "metadata": {},
   "outputs": [],
   "source": [
    "import numpy as np\n",
    "from matplotlib import pyplot as plt\n",
    "%matplotlib inline"
   ]
  },
  {
   "cell_type": "markdown",
   "metadata": {},
   "source": [
    "## astropy.wcs\n",
    "Implements the FITS WCS standard and some commonly used distortion conventions.\n",
    "\n",
    "This tutorial will show how to create a WCS object from a FITS file and how to use it to transform coordinates."
   ]
  },
  {
   "cell_type": "code",
   "execution_count": null,
   "metadata": {},
   "outputs": [],
   "source": [
    "import os\n",
    "from astropy.io import fits\n",
    "from astropy import wcs"
   ]
  },
  {
   "cell_type": "markdown",
   "metadata": {},
   "source": [
    "Open a file with `astropy.fits` and look at it."
   ]
  },
  {
   "cell_type": "code",
   "execution_count": null,
   "metadata": {},
   "outputs": [],
   "source": [
    "image,header = fits.getdata('data/TabbysStar.fits',header=True)\n",
    "plt.figure(figsize=(8,8))\n",
    "plt.imshow(image,vmin=np.median(image)-1*np.std(image),vmax=np.median(image)+3*np.std(image),cmap='gray')"
   ]
  },
  {
   "cell_type": "markdown",
   "metadata": {},
   "source": [
    "To create a WCS object pass the header with the WCS keywords to astropy.wcs.WCS (Primary header in this case)."
   ]
  },
  {
   "cell_type": "code",
   "execution_count": null,
   "metadata": {},
   "outputs": [],
   "source": [
    "w = wcs.WCS(header)"
   ]
  },
  {
   "cell_type": "code",
   "execution_count": null,
   "metadata": {},
   "outputs": [],
   "source": [
    "header"
   ]
  },
  {
   "cell_type": "markdown",
   "metadata": {},
   "source": [
    "To perform the transformation from detector to sky, including distortions, pass x and y and an 'origin'. The third argument, 'origin', indicates whether the coordinates are 1-based (like FITS), or 0-based (like python)."
   ]
  },
  {
   "cell_type": "code",
   "execution_count": null,
   "metadata": {},
   "outputs": [],
   "source": [
    "ra, dec = w.all_pix2world([1, 1], [2, 2], 1)\n",
    "print(ra, dec)"
   ]
  },
  {
   "cell_type": "markdown",
   "metadata": {},
   "source": [
    "Perfom the inverse transformation - from sky to detector coordinates.\n",
    "\n",
    "If analytical inverse is not available (often the case in the presence of distortion), then an iterative inverse is performed."
   ]
  },
  {
   "cell_type": "code",
   "execution_count": null,
   "metadata": {},
   "outputs": [],
   "source": [
    "print(w.all_world2pix(ra, dec, 1))"
   ]
  },
  {
   "cell_type": "markdown",
   "metadata": {},
   "source": [
    "The WCS object can be changed and the new WCS can be written out as a new header.\n",
    "\n",
    "By default only the primary WCS keywords are written out to the header. Pass a keyword `relax=True` to write out the distortion."
   ]
  },
  {
   "cell_type": "code",
   "execution_count": null,
   "metadata": {},
   "outputs": [],
   "source": [
    "# The original WCS\n",
    "w.printwcs()"
   ]
  },
  {
   "cell_type": "code",
   "execution_count": null,
   "metadata": {},
   "outputs": [],
   "source": [
    "w.wcs.crpix = [200, 200]\n",
    "w.to_header(relax=True)\n",
    "w.printwcs()"
   ]
  },
  {
   "cell_type": "markdown",
   "metadata": {},
   "source": [
    "# Exercise:\n",
    "Here we are going to identify which star in the image is actually Tabby's Star. The steps will be as follows:\n",
    "1. Re-read the data file for Tabby's Star (since we've altered the information). \n",
    "2. Look up the coordinates of Tabby's Star. You can find this pretty easily, though it might help to use its astronomical name: KIC 8462852\n",
    "3. Create a SkyCoord object from the RA and Dec\n",
    "4. Create a WCS object from the header\n",
    "5. Use the world2pix method to convert the RA and Dec values into pixel coordinates\n",
    "6. Plot the image overlayed with a plot symbol (crosshair, circle, or whatever) indicating which star is Tabby's Star."
   ]
  },
  {
   "cell_type": "code",
   "execution_count": null,
   "metadata": {},
   "outputs": [],
   "source": []
  }
 ],
 "metadata": {
  "kernelspec": {
   "display_name": "Python 3 (ipykernel)",
   "language": "python",
   "name": "python3"
  },
  "language_info": {
   "codemirror_mode": {
    "name": "ipython",
    "version": 3
   },
   "file_extension": ".py",
   "mimetype": "text/x-python",
   "name": "python",
   "nbconvert_exporter": "python",
   "pygments_lexer": "ipython3",
   "version": "3.9.12"
  }
 },
 "nbformat": 4,
 "nbformat_minor": 1
}
