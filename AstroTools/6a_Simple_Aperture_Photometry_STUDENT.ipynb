{
 "cells": [
  {
   "cell_type": "markdown",
   "metadata": {},
   "source": [
    "# Simple Aperture Photometry<img src='images/logo.png' width=\"200\" height=\"200\" align='right'>\n",
    "\n",
    "We have now arrived at one of the most fundamental processes in all of astronomy: measuring brightness. There is a lot of subtlety to doing this the correct way. Here we touch on the basics of photometry and we leave the gory details for later. \n",
    "\n",
    "Full disclosure: some of this notebook was stolen from the [python workshop offered at the 227th AAS meeting in Florida](https://github.com/spacetelescope/AAS2016). It has otherwise been iterated on and adapted to our specific purposes."
   ]
  },
  {
   "cell_type": "markdown",
   "metadata": {},
   "source": [
    "As always, we begin by importing some very useful packages.\n",
    "\n",
    "You should have everything already installed. The only one you might not have is `photutils`. If you don't have this one, you can install it on the Terminal command line with the command:\n",
    "`pip install photutils`\n"
   ]
  },
  {
   "cell_type": "code",
   "execution_count": null,
   "metadata": {},
   "outputs": [],
   "source": [
    "# Numpy and matplotlib, you will get used to these packages.\n",
    "import numpy as np\n",
    "import matplotlib.pyplot as plt\n",
    "import glob\n",
    "\n",
    "# Here we change some global plotting parameters.\n",
    "import matplotlib as mpl\n",
    "mpl.rcParams['image.origin'] = 'lower'\n",
    "mpl.rcParams['image.interpolation'] = 'nearest'\n",
    "mpl.rcParams['image.cmap'] = 'Greys_r'\n",
    "\n",
    "# Here's a cool progress bar...\n",
    "from tqdm.notebook import tqdm\n",
    "\n",
    "# run the %matplotlib magic command to enable inline plotting in the current Notebook\n",
    "#%matplotlib inline"
   ]
  },
  {
   "cell_type": "code",
   "execution_count": null,
   "metadata": {},
   "outputs": [],
   "source": [
    "# We will be using lots of astropy stuff...\n",
    "from astropy import wcs\n",
    "from astropy.coordinates import SkyCoord\n",
    "from astropy import units as u\n",
    "from astropy.io import fits"
   ]
  },
  {
   "cell_type": "markdown",
   "metadata": {},
   "source": [
    "## Image Calibration\n",
    "Let's first read in the master bias, dark, and flat frames from the data directory."
   ]
  },
  {
   "cell_type": "code",
   "execution_count": null,
   "metadata": {},
   "outputs": [],
   "source": [
    "bias,bh = fits.getdata('data/SN/20170713/master_bias.fits',header=True)\n",
    "dark,dh = fits.getdata('data/SN/20170713/master_dark.fits',header=True)\n",
    "flat,fh = fits.getdata('data/SN/20170713/master_flat_V.fits',header=True)"
   ]
  },
  {
   "cell_type": "markdown",
   "metadata": {},
   "source": [
    "Let's look at these calibration frames to make sure they look good."
   ]
  },
  {
   "cell_type": "code",
   "execution_count": null,
   "metadata": {
    "scrolled": false
   },
   "outputs": [],
   "source": [
    "%matplotlib notebook\n",
    "plt.figure(1,figsize=(5,5))\n",
    "plt.imshow(bias,vmin=np.median(bias)-2*np.std(bias),vmax=np.median(bias)+5*np.std(bias))\n",
    "plt.colorbar()"
   ]
  },
  {
   "cell_type": "code",
   "execution_count": null,
   "metadata": {},
   "outputs": [],
   "source": [
    "plt.figure(2,figsize=(5,5))\n",
    "plt.imshow(dark,vmin=np.median(dark)-2*np.std(dark),vmax=np.median(dark)+5*np.std(dark))\n",
    "plt.colorbar()"
   ]
  },
  {
   "cell_type": "code",
   "execution_count": null,
   "metadata": {},
   "outputs": [],
   "source": [
    "plt.figure(3,figsize=(5,5))\n",
    "plt.imshow(flat,vmin=np.median(flat)-2*np.std(flat),vmax=np.median(flat)+5*np.std(flat))\n",
    "plt.colorbar()"
   ]
  },
  {
   "cell_type": "markdown",
   "metadata": {},
   "source": [
    "OK, these look good. Now let us take a look at our science frames."
   ]
  },
  {
   "cell_type": "code",
   "execution_count": null,
   "metadata": {},
   "outputs": [],
   "source": [
    "sfiles = glob.glob('data/SN/20170713/SN*fits')\n",
    "sct = len(sfiles)\n",
    "sfiles"
   ]
  },
  {
   "cell_type": "markdown",
   "metadata": {},
   "source": [
    "Looks like there are 5 target files. Let us first take a look at a calibrated image and see what it looks like"
   ]
  },
  {
   "cell_type": "code",
   "execution_count": null,
   "metadata": {},
   "outputs": [],
   "source": [
    "im, head = fits.getdata(sfiles[0],header=True)\n",
    "cal = (im-bias-dark*head['EXPTIME'])/flat\n",
    "plt.figure(4,figsize=(5,5))\n",
    "plt.imshow(cal,vmin=np.median(cal)-2*np.std(cal),vmax=np.median(cal)+5*np.std(cal))"
   ]
  },
  {
   "cell_type": "markdown",
   "metadata": {},
   "source": [
    "## Source Identification\n",
    "Well, the field does not look perfectly flat, but it doesn't look bad either. Now there is supposed to be a supernova in this image somewhere, and it is  hard to tell what is going on with such a short exposure image.\n",
    "\n",
    "Luckily, we have the J2000 coordinates AND some knowledge of how to use WCS."
   ]
  },
  {
   "cell_type": "code",
   "execution_count": null,
   "metadata": {},
   "outputs": [],
   "source": [
    "# Given coordinates\n",
    "rastr  = '01:20:14.44'\n",
    "decstr = '+03:24:09.96'\n",
    "\n",
    "# Make an astropy coordinate object out of the coordinates\n",
    "coords = SkyCoord(rastr,decstr,unit=(u.hour,u.deg))\n",
    "\n",
    "# Return RA and Dec in decimal degrees\n",
    "ra  = coords.ra.deg\n",
    "dec = coords.dec.deg\n",
    "\n",
    "print(ra, dec)"
   ]
  },
  {
   "cell_type": "markdown",
   "metadata": {},
   "source": [
    "Now let us get the x and y pixel values for the object given the astrometry in the header of the image and plot it up on the image."
   ]
  },
  {
   "cell_type": "code",
   "execution_count": null,
   "metadata": {},
   "outputs": [],
   "source": [
    "# This command parses and extracts the information about the celestial coordinates of each pixel\n",
    "w = wcs.WCS(head)\n",
    "# This converts an RA and Dec value to x and y pixel value\n",
    "x,y = w.all_world2pix(ra, dec, 1)\n",
    "\n",
    "# Plot up the figure\n",
    "plt.figure(5,figsize=(5,5))\n",
    "plt.imshow(cal,vmin=np.median(cal)-2*np.std(cal),vmax=np.median(cal)+5*np.std(cal))\n",
    "plt.plot(x,y,'o',markerfacecolor='none',ms=20,markeredgecolor='y',markeredgewidth=4)"
   ]
  },
  {
   "cell_type": "markdown",
   "metadata": {},
   "source": [
    "Ok... that is pretty convincing! Now, how do we measure how bright it is? This is where we introduce the concept of aperture photometry. \n",
    "\n",
    "## Simple Aperture Photometry\n",
    "\n",
    "Aperture photometry is the process by which one tallies the number of counts (pixel values) within a region, called an aperture. That aperture is typically circular, but it can be adapted to be ellipsoidal, or square, or anything, really. For a cicular aperture, this process is  not as straightforward as one might assume, particularly because the pixels are rectangular. There are different methods for doing this that require different levels of computational expense. We will be interested in doing an exact calculation since the brightness is an important value and we don't want to compromise.\n",
    "<img src=\"images/photutils_aperture_methods.svg\">\n",
    "\n",
    "In addition to counting up all the pixel values in an aperture, we will want to subtract the background since this may be due to the sky brightness, scattered light, or other phenomena not associated with the astronomical source of interest. Therefore, we define an annulus around the source that (ideally) has no astronomical sources within it. The we subtract the median value of the background from each pixel within the aperture. \n",
    "<img src=\"images/aperturephot.png\">\n",
    "\n"
   ]
  },
  {
   "cell_type": "code",
   "execution_count": null,
   "metadata": {},
   "outputs": [],
   "source": [
    "from photutils.aperture import CircularAperture, CircularAnnulus, aperture_photometry\n",
    "aperture = CircularAperture((x,y), r=10)\n",
    "annulus_aperture = CircularAnnulus((x,y), r_in=20, r_out=40)\n",
    "plt.figure(6,figsize=(5,5))\n",
    "plt.imshow(cal,vmin=np.median(cal)-2*np.std(cal),vmax=np.median(cal)+5*np.std(cal))\n",
    "aperture.plot(color='white', lw=1)\n",
    "annulus_aperture.plot(color='red', lw=1)"
   ]
  },
  {
   "cell_type": "markdown",
   "metadata": {},
   "source": [
    "Looks pretty good. It doesn't matter too much that the star does not appear perfectly in the center of the aperture. The aperture photometry routine will re-center on the star."
   ]
  },
  {
   "cell_type": "code",
   "execution_count": null,
   "metadata": {},
   "outputs": [],
   "source": [
    "phot_table = aperture_photometry(cal, [aperture,annulus_aperture])\n",
    "phot_table"
   ]
  },
  {
   "cell_type": "markdown",
   "metadata": {},
   "source": [
    "\"phot_table\" is a astropy table with all the information one might want for simple aperture photometry. "
   ]
  },
  {
   "cell_type": "code",
   "execution_count": null,
   "metadata": {},
   "outputs": [],
   "source": [
    "bkg_mean = phot_table['aperture_sum_1'] / annulus_aperture.area\n",
    "bkg_mean\n",
    "bkg_sum = bkg_mean * aperture.area\n",
    "bkg_sum\n",
    "final_sum = phot_table['aperture_sum_0'] - bkg_sum\n",
    "phot_table['residual_aperture_sum'] = final_sum\n",
    "phot_table"
   ]
  },
  {
   "cell_type": "code",
   "execution_count": null,
   "metadata": {},
   "outputs": [],
   "source": [
    "exptime = head['EXPTIME']\n",
    "print('Total flux calculated in original image = %.2f counts per second' % (phot_table['residual_aperture_sum']/exptime))"
   ]
  },
  {
   "cell_type": "markdown",
   "metadata": {},
   "source": [
    "It can be seen from the plots that the counts plateau beyond about 10 pixels. We can take this aysmptotic value as the total counts of the supernova."
   ]
  },
  {
   "cell_type": "markdown",
   "metadata": {
    "scrolled": true
   },
   "source": [
    "## Background subtraction\n",
    "As you can see in the images above, the background was not perfectly uniform. In this case that is likely due to an imperfect flat. However sometimes it can be due to scattered light or to diffuse astronomical light, such as a galaxy or nebula. Sometimes it is advantageous to model and subtract background light before you do photometry. If done carefully, a background subtraction could take the place of the annulus aperture above. Below is a working example of how one might do this."
   ]
  },
  {
   "cell_type": "code",
   "execution_count": null,
   "metadata": {},
   "outputs": [],
   "source": [
    "from photutils.background import Background2D, MedianBackground\n",
    "bkg_estimator = MedianBackground()\n",
    "#bkg_estimator = sigma_clip\n",
    "bkg = Background2D(cal, box_size=(17, 17), filter_size=(31, 31), bkg_estimator=bkg_estimator)"
   ]
  },
  {
   "cell_type": "code",
   "execution_count": null,
   "metadata": {},
   "outputs": [],
   "source": [
    "plt.figure(7,figsize=(5,5))\n",
    "plt.imshow(cal,vmin=np.median(cal)-2*np.std(cal),vmax=np.median(cal)+5*np.std(cal))\n",
    "plt.colorbar()\n",
    "plt.figure(8,figsize=(5,5))\n",
    "plt.imshow(bkg.background,vmin=np.median(cal)-1*np.std(cal),vmax=np.median(cal)+1*np.std(cal))\n",
    "plt.colorbar()\n",
    "plt.figure(9,figsize=(5,5))\n",
    "cal_bkgsub = cal-bkg.background\n",
    "plt.imshow(cal_bkgsub,vmin=np.median(cal_bkgsub)-2*np.std(cal_bkgsub),vmax=np.median(cal_bkgsub)+5*np.std(cal_bkgsub))\n",
    "plt.colorbar()"
   ]
  },
  {
   "cell_type": "markdown",
   "metadata": {},
   "source": [
    "It can be seen that the background subtracted image is much more \"flat.\" We can apply the same aperture photometry parameters to this flattened image and compare our results."
   ]
  },
  {
   "cell_type": "code",
   "execution_count": null,
   "metadata": {},
   "outputs": [],
   "source": [
    "phot_table2 = aperture_photometry(cal_bkgsub, aperture)\n",
    "phot_table2"
   ]
  },
  {
   "cell_type": "code",
   "execution_count": null,
   "metadata": {},
   "outputs": [],
   "source": [
    "totflux_orig = phot_table['residual_aperture_sum'] / exptime\n",
    "totflux_sub = phot_table2['aperture_sum'] / exptime\n",
    "pdiff = np.abs(totflux_orig-totflux_sub)/np.mean([totflux_orig,totflux_sub]) * 100.0\n",
    "print('Total flux calculated in original image = %.2f counts per second' % totflux_orig)\n",
    "print('Total flux calculated in background subtracted image = %.2f counts per second' % totflux_sub)\n",
    "print('Difference in photometry is %.2f percent' % pdiff)"
   ]
  },
  {
   "cell_type": "markdown",
   "metadata": {},
   "source": [
    "You can see that there is a measureable difference in the results, though it is a small difference."
   ]
  },
  {
   "cell_type": "markdown",
   "metadata": {},
   "source": [
    "# Exercise 1\n",
    "Now that you know about simple aperture photometry, your task is to calculate the total flux in the supernova for each of the 5 images taken on the first night and then average them and estimate an error.\n",
    "<ol>\n",
    "<li>Reproduce the simple aperture photometry above in a few lines of code</li>\n",
    "<li>Calibrate each image</li>\n",
    "<li>Perform simple aperture photometry</li>\n",
    "<li>Write a loop and accumulate the answers for each of the 5 images.</li>\n",
    "<li>Average the values and take a standard deviation to estimate the error</li>\n",
    "<li>Plot the results with errorbars---counts per second as a function of Julian Day. Julian Day can be accessed in the header of each file as header['JD']. Plot using the plt.errorbar function (very useful!)</li>\n",
    "</ol>"
   ]
  },
  {
   "cell_type": "code",
   "execution_count": null,
   "metadata": {},
   "outputs": [],
   "source": []
  },
  {
   "cell_type": "markdown",
   "metadata": {},
   "source": [
    "# Exercise 2\n",
    "Run the second night of data (through the same procedure as in Exercise 1 and come to some conclusion about whether the supernova got brighter, dimmer, or remained the same brightness."
   ]
  },
  {
   "cell_type": "code",
   "execution_count": null,
   "metadata": {},
   "outputs": [],
   "source": [
    "# These lines should get you started with the next set of data. \n",
    "bias2,bh2 = fits.getdata('data/SN/20170714/master_bias.fits',header=True)\n",
    "dark2,dh2 = fits.getdata('data/SN/20170714/master_dark.fits',header=True)\n",
    "flat2,fh2 = fits.getdata('data/SN/20170714/master_flat_V.fits',header=True)\n",
    "sfiles2 = glob.glob('data/SN/20170714/SN*fits')\n",
    "sct2 = len(sfiles2)\n",
    "sfiles2"
   ]
  },
  {
   "cell_type": "code",
   "execution_count": null,
   "metadata": {},
   "outputs": [],
   "source": []
  },
  {
   "cell_type": "code",
   "execution_count": null,
   "metadata": {},
   "outputs": [],
   "source": []
  }
 ],
 "metadata": {
  "kernelspec": {
   "display_name": "Python 3 (ipykernel)",
   "language": "python",
   "name": "python3"
  },
  "language_info": {
   "codemirror_mode": {
    "name": "ipython",
    "version": 3
   },
   "file_extension": ".py",
   "mimetype": "text/x-python",
   "name": "python",
   "nbconvert_exporter": "python",
   "pygments_lexer": "ipython3",
   "version": "3.9.12"
  }
 },
 "nbformat": 4,
 "nbformat_minor": 2
}
