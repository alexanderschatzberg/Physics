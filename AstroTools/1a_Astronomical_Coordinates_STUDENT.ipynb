{
 "cells": [
  {
   "cell_type": "markdown",
   "metadata": {},
   "source": [
    "# Introduction to astronomical coordinates using `astropy.coordinates`<img src='images/logo.png' width=300px align='right'>\n",
    "This tutorial will give you many tools to understand and navigate the basic astronomical coordinates that we use at the Thacher Observatory. Keep in mind that this is only an introduction, and the topic of astronomical coordinates is quite a bit deeper than we will cover here. However, this should give you enough experience to get up and running.\n",
    "\n",
    "This tutorial is based heavily on a tutorial from http://tutorials.astropy.org in which the `astropy.coordinates` package and related astropy functionality is explored for the purposes of planning observations and other exercises focused on large coordinate catalogs.\n",
    "\n",
    "You may find it helpful to keep [the Astropy documentation for the coordinates package](http://docs.astropy.org/en/stable/coordinates/index.html) open along side this tutorial for reference and additional reading.\n",
    "\n",
    "Before we get started with the coding, let us first understand the basics of a couple different sky coordinate systems"
   ]
  },
  {
   "cell_type": "markdown",
   "metadata": {},
   "source": [
    "## Crash Course in Alt-Az Coordinates\n",
    "Altitude-Azimuth, Alt-Az, or horizon coordinates are a longitude-latitude system for locating any position on the sky from **your specific vantage point on Earth.** This last part is emphasized, because the Alt-Az location of something on the sky at a specified time is different for people at different locations. However, the convention is fairly simple and intuitive, particularly if you are familiar with bearings (as most Thacher students are).\n",
    "\n",
    "The azimuth of a source is a degree measured in the easterly direction from North (*e.g.*, zero azimuth is due North, and 90 degrees azimuth is due East). In other words, it is simply the *bearing* of the star.\n",
    "<img src='images/Azimuth-Altitude.png' align='center' width=300px>\n",
    "\n",
    "It can be seen in the next picture why this coordinate system is tied to your location on earth. The picture shows the altitude-azimuth system that would be used by an observer in the Western US. If you imagine the Alt-Az system used by someone in Brazil, for instance, you can see how the same Alt-Az coordinates in both locations would correspond to two totally different directions in the sky.\n",
    "<img src='images/HorizonCoords.gif' align='center' width=400px>"
   ]
  },
  {
   "cell_type": "markdown",
   "metadata": {},
   "source": [
    "## Crash Course in Equitorial Coordinates (Right Ascension and Declination)\n",
    "Equitorial coordinates are based on the Earth, and so any observer located anywhere on Earth would be able to find an object on the sky given one set of coordinates. The latitude lines project out into space to create the lines of \"declination.\" Therefore, any celestial object that has a declination equal to your geocentric latitude will reach your local zenith (altitude = 90 degrees) at its highest point. One simple example is to imagine the altitude of the North Star if you were at the North Pole.\n",
    "\n",
    "The line of zero declination is called the Celestial Equator and it corresponds to the geocentric equator. The orbit of the Earth around the Sun is not perfectly aligned with the rotation of the Earth. Therefore, the plane of the Solar System creates a line across the sky that does not correspond to the Celestial Equator. This line is called the \"ecliptic,\" and it is offset by approximately 23.5 degrees (see the figure below). The intersections of the celestial equator and the ecliptic define two specific directions in the sky that correspond to the two equinoxes (in Spring and Fall) when the Sun is directly over the Earth's equator.\n",
    "\n",
    "This is all quite technical, however, it is important for understanding the longitudinal coordinate of the Equitorial System. It is called \"Right Ascension\" (RA) and there are 24 *hours* of RA in a day. The line of RA = 0 corresponds to the autumnal (or fall) equinox. This is shown in the following diagram... stare at it for a while.\n",
    "<img src='images/RADec_celestial_sphere.png' align='center' width=400px>\n",
    "\n",
    "The following image shows how this all bears out in a practical situation. It is a screen shot from the software Stellarium&mdash;which is free and highly recommended for anyone wanting to explore the sky and the different coordinate systems in a hands-on way&mdash;showing a local scene in the northern hemisphere with a light blue grid on the sky that represents the equitorial coordinate system. The lines of declination are separated by 5 degrees.\n",
    "<img src='images/RADec_from_Ground.png' align='center' width=900px>\n",
    "\n",
    "To test your knowledge of what is going on, first identify where the altitude = 0 degrees line would be located. Then identify what celestial object would be located at (or actually, very near) the point where all the lines of longitude converge."
   ]
  },
  {
   "cell_type": "markdown",
   "metadata": {},
   "source": [
    "## Loading packages\n",
    "Before we do anything we need to import some important and useful packages. A short mention of each package is included. For more details, check the web. "
   ]
  },
  {
   "cell_type": "code",
   "execution_count": null,
   "metadata": {},
   "outputs": [],
   "source": [
    "# Tools for connecting with web servers\n",
    "import urllib\n",
    "# Utilities for displaying images in jupyter notebooks\n",
    "import IPython.display\n",
    "# Numpy, what else can I say?\n",
    "import numpy as np"
   ]
  },
  {
   "cell_type": "code",
   "execution_count": null,
   "metadata": {},
   "outputs": [],
   "source": [
    "# Display images in the browser window\n",
    "%matplotlib inline\n",
    "# Matplotlib, what else can I say?\n",
    "from matplotlib import pyplot as plt"
   ]
  },
  {
   "cell_type": "code",
   "execution_count": null,
   "metadata": {},
   "outputs": [],
   "source": [
    "# Utilities particular to astropy\n",
    "from astropy import units as u\n",
    "from astropy.coordinates import SkyCoord\n",
    "from astropy.table import Table"
   ]
  },
  {
   "cell_type": "markdown",
   "metadata": {},
   "source": [
    "## Describing on-sky locations with `coordinates`\n",
    "OK! Now we are ready to begin... Let's start by considering a field around the picturesque Hickson Compact Group 7.  To do anything with this, we need to get an object that represents the coordinates of the center of this group.\n",
    "\n",
    "In Astropy, the most common object you'll work with for coordinates is `SkyCoord`.  A `SkyCoord` can be created most easily using angles as inputs (shown below).  It's also wise to explicitly specify the frame your coordinates are in, although this is not strictly necessary because the default is ICRS. \n",
    "\n",
    "If you're not sure what ICRS is, it stands for International Coordinate Reference System, and it is safe to think of it as an approximation to an equatorial system at the J2000 equinox."
   ]
  },
  {
   "cell_type": "code",
   "execution_count": null,
   "metadata": {},
   "outputs": [],
   "source": [
    "hcg7_center = SkyCoord(9.81625*u.deg, 0.88806*u.deg, frame='icrs')\n",
    "hcg7_center"
   ]
  },
  {
   "cell_type": "markdown",
   "metadata": {},
   "source": [
    "SkyCoord will also accept string-formatted coordinates either as separate strings for ra/dec or a single string.  You'll have to give units, though, if they aren't part of the string itself."
   ]
  },
  {
   "cell_type": "code",
   "execution_count": null,
   "metadata": {},
   "outputs": [],
   "source": [
    "SkyCoord('0h39m15.9s', '0d53m17.016s', frame='icrs')"
   ]
  },
  {
   "cell_type": "code",
   "execution_count": null,
   "metadata": {},
   "outputs": [],
   "source": [
    "SkyCoord('0:39:15.9 0:53:17.016', unit=(u.hour, u.deg), frame='icrs')"
   ]
  },
  {
   "cell_type": "markdown",
   "metadata": {},
   "source": [
    "If the object you're interested in is in [SESAME](http://cdsweb.u-strasbg.fr/cgi-bin/Sesame) (which is basically SIMBAD with a couple other databases available), you can also look it up directly from its name using the `SkyCoord.from_name()` class method<sup>1</sup>. Note that this requires an internet connection.  It's safe to skip if you don't have one, because we defined it above explicitly.\n",
    "\n",
    "<sub> <sup>1</sup>If you don't know what a class method is, think of it like an alternative constructor for a `SkyCoord` object -- calling `SkyCoord.from_name()` with a name gives you a new `SkyCoord` object. For more detailed background on what class methods are and when they're useful, see [this page](https://julien.danjou.info/blog/2013/guide-python-static-class-abstract-methods).</sub>"
   ]
  },
  {
   "cell_type": "code",
   "execution_count": null,
   "metadata": {},
   "outputs": [],
   "source": [
    "hcg7_center = SkyCoord.from_name('HCG 7')\n",
    "hcg7_center"
   ]
  },
  {
   "cell_type": "markdown",
   "metadata": {},
   "source": [
    "This object we just created has various useful ways of accessing the information contained within it.  In particular, the ``ra`` and ``dec`` attributes are specialized [``Quantity``](http://docs.astropy.org/en/stable/units/index.html) objects (actually, a subclass called [``Angle``](http://docs.astropy.org/en/stable/api/astropy.coordinates.Angle.html), which in turn is subclassed by [``Latitude``](http://docs.astropy.org/en/stable/api/astropy.coordinates.Latitude.html) and [``Longitude``](http://docs.astropy.org/en/stable/api/astropy.coordinates.Longitude.html)).  These objects store angles and provide pretty representations of those angles, as well as some useful attributes to quickly convert to common angle units:"
   ]
  },
  {
   "cell_type": "code",
   "execution_count": null,
   "metadata": {},
   "outputs": [],
   "source": [
    "type(hcg7_center.ra), type(hcg7_center.dec)"
   ]
  },
  {
   "cell_type": "code",
   "execution_count": null,
   "metadata": {},
   "outputs": [],
   "source": [
    "hcg7_center.dec"
   ]
  },
  {
   "cell_type": "code",
   "execution_count": null,
   "metadata": {},
   "outputs": [],
   "source": [
    "hcg7_center.ra"
   ]
  },
  {
   "cell_type": "code",
   "execution_count": null,
   "metadata": {},
   "outputs": [],
   "source": [
    "hcg7_center.ra.hour"
   ]
  },
  {
   "cell_type": "markdown",
   "metadata": {},
   "source": [
    "Now that we have a `SkyCoord` object, we can try to use it to access data from the [Sloan Digitial Sky Survey](http://www.sdss.org/) (SDSS).  Let's start by trying to get a picture using the SDSS image cutout service to make sure HCG7 is in the SDSS footprint and has good image quality.\n",
    "\n",
    "This requires an internet connection, but if it fails, don't worry: the file is included in the repository so you can just let it use the local file``'HCG7_SDSS_cutout.jpg'``, defined at the top of the cell.  "
   ]
  },
  {
   "cell_type": "code",
   "execution_count": null,
   "metadata": {},
   "outputs": [],
   "source": [
    "impix = 1024\n",
    "imsize = 12*u.arcmin\n",
    "cutoutbaseurl = 'http://skyservice.pha.jhu.edu/DR12/ImgCutout/getjpeg.aspx'\n",
    "query_string = urllib.parse.urlencode(dict(ra=hcg7_center.ra.deg, \n",
    "                                     dec=hcg7_center.dec.deg, \n",
    "                                     width=impix, height=impix, \n",
    "                                     scale=imsize.to(u.arcsec).value/impix))\n",
    "url = cutoutbaseurl + '?' + query_string\n",
    "\n",
    "urllib.request.urlretrieve(url, 'HCG7_SDSS_cutout.jpg')"
   ]
  },
  {
   "cell_type": "markdown",
   "metadata": {},
   "source": [
    "Now lets take a look at the image."
   ]
  },
  {
   "cell_type": "code",
   "execution_count": null,
   "metadata": {},
   "outputs": [],
   "source": [
    "IPython.display.Image('HCG7_SDSS_cutout.jpg')"
   ]
  },
  {
   "cell_type": "markdown",
   "metadata": {},
   "source": [
    "Very pretty!"
   ]
  },
  {
   "cell_type": "markdown",
   "metadata": {},
   "source": [
    "# Exercise"
   ]
  },
  {
   "cell_type": "markdown",
   "metadata": {},
   "source": [
    "Create a `SkyCoord` of some other astronomical object you find interesting. Examples could be M31, M51, or Orion A..."
   ]
  },
  {
   "cell_type": "code",
   "execution_count": null,
   "metadata": {},
   "outputs": [],
   "source": []
  },
  {
   "cell_type": "markdown",
   "metadata": {},
   "source": [
    "Express the RA of the `SkyCoord` object you just created in decimal hours, decimal degrees, and decimal radians by utilizing the built in methods of the `SkyCoord` object."
   ]
  },
  {
   "cell_type": "code",
   "execution_count": null,
   "metadata": {},
   "outputs": [],
   "source": []
  },
  {
   "cell_type": "markdown",
   "metadata": {},
   "source": [
    "Using only a single method/function call on the `SkyCoord` object you just created to print a string with the RA/Dec in the form 'HH:MM:SS.S DD:MM:SS.S'.  Check your answer against an academic paper or some web site like [SIMBAD](http://simbad.u-strasbg.fr/simbad/) that will show you sexigesimal coordinates for the object.\n",
    "\n",
    "(Hint: `SkyCoord.to_string()` might be worth reading up on)"
   ]
  },
  {
   "cell_type": "code",
   "execution_count": null,
   "metadata": {},
   "outputs": [],
   "source": []
  },
  {
   "cell_type": "markdown",
   "metadata": {},
   "source": [
    "Now get an image of that object from the Digitized Sky Survey and download it and/or show it in the notebook. Bonus points if you figure out the (one-line) trick to get it to display in the notebook *without* ever downloading the file yourself.\n",
    "\n",
    "(Hint: STScI has an easy-to-access [copy of the DSS](https://archive.stsci.edu/dss/).  The pattern to follow for the web URL is ``http://archive.stsci.edu/cgi-bin/dss_search?f=GIF&ra=RA&dec=DEC``)"
   ]
  },
  {
   "cell_type": "code",
   "execution_count": null,
   "metadata": {},
   "outputs": [],
   "source": []
  },
  {
   "cell_type": "markdown",
   "metadata": {},
   "source": [
    "## Wrap-up"
   ]
  },
  {
   "cell_type": "markdown",
   "metadata": {},
   "source": [
    "For lots more documentation on the many other features of `astropy.coordinates`, check out [its section of the documentation](http://astropy.readthedocs.org/en/latest/coordinates/index.html)."
   ]
  }
 ],
 "metadata": {
  "astropy-tutorials": {
   "author": "Erik Tollerud <erik.tollerud@gmail.com>",
   "date": "July 2015",
   "description": "Demonstrates use of astropy.coordinates for common tasks. Includes matching catalogs against each other, basic observing planning tasks, and basic usage of coordinates.",
   "link_name": "Using astropy.coordinates to Match Catalogs and Plan Observations",
   "name": "",
   "published": true
  },
  "kernelspec": {
   "display_name": "Python 3 (ipykernel)",
   "language": "python",
   "name": "python3"
  },
  "language_info": {
   "codemirror_mode": {
    "name": "ipython",
    "version": 3
   },
   "file_extension": ".py",
   "mimetype": "text/x-python",
   "name": "python",
   "nbconvert_exporter": "python",
   "pygments_lexer": "ipython3",
   "version": "3.9.12"
  }
 },
 "nbformat": 4,
 "nbformat_minor": 1
}
