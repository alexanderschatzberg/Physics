{
 "cells": [
  {
   "cell_type": "code",
   "execution_count": 2,
   "metadata": {},
   "outputs": [],
   "source": [
    "import numpy as np"
   ]
  },
  {
   "cell_type": "code",
   "execution_count": 3,
   "metadata": {},
   "outputs": [
    {
     "name": "stdout",
     "output_type": "stream",
     "text": [
      "0.2498855\n",
      "0.4998854868867469\n"
     ]
    }
   ],
   "source": [
    "#Problem 1a\n",
    "x = 0.129\n",
    "K = 100\n",
    "m = 2\n",
    "v = 3.415 \n",
    "\n",
    "A = (K * x**2 + m * v**2)/K\n",
    "\n",
    "print(A)\n",
    "\n",
    "A = np.sqrt(A)\n",
    "\n",
    "print(A)"
   ]
  },
  {
   "cell_type": "code",
   "execution_count": 9,
   "metadata": {},
   "outputs": [
    {
     "name": "stdout",
     "output_type": "stream",
     "text": [
      "7.0710678118654755\n"
     ]
    },
    {
     "ename": "TypeError",
     "evalue": "can only concatenate str (not \"numpy.float64\") to str",
     "output_type": "error",
     "traceback": [
      "\u001b[0;31m---------------------------------------------------------------------------\u001b[0m",
      "\u001b[0;31mTypeError\u001b[0m                                 Traceback (most recent call last)",
      "Cell \u001b[0;32mIn [9], line 12\u001b[0m\n\u001b[1;32m      8\u001b[0m phi \u001b[39m=\u001b[39m np\u001b[39m.\u001b[39marctan((\u001b[39m-\u001b[39m\u001b[39m1\u001b[39m\u001b[39m*\u001b[39mv)\u001b[39m/\u001b[39m(omega\u001b[39m*\u001b[39mx)) \u001b[39m-\u001b[39m (omega\u001b[39m*\u001b[39mt)\n\u001b[1;32m     10\u001b[0m x_of_t \u001b[39m=\u001b[39m A \u001b[39m*\u001b[39m np\u001b[39m.\u001b[39mcos(omega \u001b[39m*\u001b[39m t \u001b[39m+\u001b[39m phi)\n\u001b[0;32m---> 12\u001b[0m \u001b[39mprint\u001b[39m(\u001b[39m'\u001b[39m\u001b[39mX(t)\u001b[39m\u001b[39m'\u001b[39m \u001b[39m+\u001b[39m x_of_t)\n\u001b[1;32m     14\u001b[0m \u001b[39mprint\u001b[39m(x)\n",
      "\u001b[0;31mTypeError\u001b[0m: can only concatenate str (not \"numpy.float64\") to str"
     ]
    }
   ],
   "source": [
    "#Problem 1b\n",
    "#x(t) = A * cos(omega * t + phi)\n",
    "#x(t) = xm * cos(phi)\n",
    "t = 1\n",
    "\n",
    "omega = np.sqrt(K/m)\n",
    "print(omega)\n",
    "phi = np.arctan((-1*v)/(omega*x)) - (omega*t)\n",
    "\n",
    "x_of_t = A * np.cos(omega * t + phi)\n",
    "\n",
    "print(f'X(t){x_of_t}')\n",
    "\n",
    "print(x)"
   ]
  },
  {
   "cell_type": "code",
   "execution_count": null,
   "metadata": {},
   "outputs": [],
   "source": [
    "#Problem 2 \n",
    "#a(t) = a w^2 * cos(wt)\n",
    "\n"
   ]
  }
 ],
 "metadata": {
  "kernelspec": {
   "display_name": "Python 3.9.13 ('astropy-workshop-M1')",
   "language": "python",
   "name": "python3"
  },
  "language_info": {
   "codemirror_mode": {
    "name": "ipython",
    "version": 3
   },
   "file_extension": ".py",
   "mimetype": "text/x-python",
   "name": "python",
   "nbconvert_exporter": "python",
   "pygments_lexer": "ipython3",
   "version": "3.9.13"
  },
  "orig_nbformat": 4,
  "vscode": {
   "interpreter": {
    "hash": "131333597bd84980aacdf9c035c42dff7c62a0d4dfc91e80df0f29e0e9f434b7"
   }
  }
 },
 "nbformat": 4,
 "nbformat_minor": 2
}
