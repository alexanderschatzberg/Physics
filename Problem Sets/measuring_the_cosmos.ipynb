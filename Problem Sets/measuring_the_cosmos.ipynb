{
 "cells": [
  {
   "cell_type": "code",
   "execution_count": 20,
   "metadata": {},
   "outputs": [],
   "source": [
    "import astropy.coordinates\n",
    "from astropy.time import Time\n",
    "from astropy.coordinates import FK5\n",
    "import numpy as np\n",
    "import matplotlib.pyplot as plt\n",
    "from astropy.coordinates import Angle"
   ]
  },
  {
   "cell_type": "code",
   "execution_count": null,
   "metadata": {},
   "outputs": [],
   "source": [
    "#Problem 2\n",
    "t1 = Time('2021-09-27T00:00:00')\n",
    "c1 = astropy.coordinates.SkyCoord(ra=333.4684167, dec=62.36787778, unit='deg', frame='icrs')\n",
    "c2 = c1.transform_to(FK5(equinox=t1))\n",
    "\n",
    "print(c1.separation(c2).arcsec)"
   ]
  },
  {
   "cell_type": "code",
   "execution_count": null,
   "metadata": {},
   "outputs": [],
   "source": [
    "#Problem 3.A\n",
    "au = 1.58125e-5\n",
    "d = 26080\n",
    "sz = 100000000\n",
    "bins = 200\n",
    "\n",
    "au_dist = np.random.normal(au, 0.00001, sz)\n",
    "d_dist = np.random.normal(d, 1630, sz)\n",
    "\n",
    "theata_dist = np.arcsin(au_dist/d_dist)\n",
    "\n",
    "print(\"Mean\", theata_dist.mean())\n",
    "print(\"STD\", theata_dist.std())\n",
    "\n",
    "plt.figure(1)\n",
    "plt.hist(theata_dist, bins=bins)\n"
   ]
  },
  {
   "cell_type": "code",
   "execution_count": 26,
   "metadata": {},
   "outputs": [
    {
     "name": "stdout",
     "output_type": "stream",
     "text": [
      "Mean, std 0.5270670103662901 0.33331670137624236\n"
     ]
    }
   ],
   "source": [
    "#Problem 3.B\n",
    "sz = 100000000\n",
    "au = 1.58125e-5 #ly\n",
    "au_err = 0.00001 #ly\n",
    "\n",
    "orion_neb_par = Angle('0d 0m 0.00003s')\n",
    "orion_err = 0.00001/3600\n",
    "\n",
    "orion_neb_dist = np.random.normal(orion_neb_par, orion_err, sz)\n",
    "au_dist = np.random.normal(au, au_err, sz)\n",
    "\n",
    "d = (au_dist/(np.sin(orion_neb_dist)))\n",
    "print(\"Mean, std\", d.mean(), d.std())"
   ]
  }
 ],
 "metadata": {
  "kernelspec": {
   "display_name": "Python 3.9.13 ('astropy-workshop-M1')",
   "language": "python",
   "name": "python3"
  },
  "language_info": {
   "codemirror_mode": {
    "name": "ipython",
    "version": 3
   },
   "file_extension": ".py",
   "mimetype": "text/x-python",
   "name": "python",
   "nbconvert_exporter": "python",
   "pygments_lexer": "ipython3",
   "version": "3.9.13"
  },
  "orig_nbformat": 4,
  "vscode": {
   "interpreter": {
    "hash": "131333597bd84980aacdf9c035c42dff7c62a0d4dfc91e80df0f29e0e9f434b7"
   }
  }
 },
 "nbformat": 4,
 "nbformat_minor": 2
}
