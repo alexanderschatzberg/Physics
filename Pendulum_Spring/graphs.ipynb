{
 "cells": [
  {
   "cell_type": "code",
   "execution_count": null,
   "metadata": {},
   "outputs": [],
   "source": [
    "#Imports\n",
    "import numpy as np\n",
    "import matplotlib.pyplot as plt \n",
    "\n",
    "#Forgive the wet code, I was just trying to get it to work"
   ]
  },
  {
   "cell_type": "code",
   "execution_count": null,
   "metadata": {},
   "outputs": [],
   "source": [
    "#Pendulum Measurements for 20.8 cm\n",
    "time = np.array([75.8-75.8, 105.8-75.8, 126.4-75.8, 159.5-75.8, 203.0-75.8, 238.1-75.8, 287.2-75.8, 343.4-75.8, 404.8-75.8, 537.3-75.8])\n",
    "time_sigma = 0.1\n",
    "\n",
    "amp_decay = np.array([15, 12, 10, 8, 6, 5, 4, 3, 2, 1])\n",
    "amp_sigma = 1\n",
    "\n",
    "#Plotting the data with error bars for the pendulum with length 20.8 cm \n",
    "\"\"\"\n",
    "Pendulum information\n",
    "length of string = 20.8 cm +- .1 cm \n",
    "\"\"\"\n",
    "plt.figure(dpi=1200)\n",
    "plt.plot(time, amp_decay, 'o', color='Black') #Plot the points\n",
    "\n",
    "plt.errorbar(time, amp_decay, xerr=time_sigma, yerr=amp_sigma, fmt='o', ecolor='Black') #Plot the error bars\n",
    "\n",
    "#Label the axises and title the graph\n",
    "plt.title('Pendulum with Length 20.8 cm and Initial Amplitude of 15º')\n",
    "plt.xlabel('Time (s)')\n",
    "plt.ylabel('Amplitude (deg)')\n",
    "\n",
    "#Fit a line to the data (Ae^(-x/tau))\n",
    "tau = 142 #Seconds. Tau = the time it takes for the amplitude to decay to Amp nought/e\n",
    "tau_err = 1\n",
    "\n",
    "y = 15*np.exp(-time/tau)\n",
    "\n",
    "plt.plot(time, y, color='Red')  \n",
    "\n",
    "#Show the plot\n",
    "plt.show()\n"
   ]
  },
  {
   "cell_type": "code",
   "execution_count": null,
   "metadata": {},
   "outputs": [],
   "source": [
    "#Pendulum Measurements for 36.4 cm\n",
    "time = np.array([0, 88.3-66.48, 130.43-66.48, 171.29-66.49, 204.27-66.48, 238.23-66.48, 287.83 - 66.48, 430.60-66.48])\n",
    "time_sigma = 0.1\n",
    "\n",
    "amp_decay = np.array([15, 12, 7, 5, 4, 3, 2, 1])\n",
    "amp_sigma = 1\n",
    "\n",
    "#Plotting the data with error bars for the pendulum with length 36.4 cm \n",
    "\"\"\"\n",
    "Pendulum information\n",
    "length of string = 20.8 cm +- .1 cm \n",
    "\"\"\"\n",
    "plt.figure(dpi=1200)\n",
    "plt.plot(time, amp_decay, 'o', color='Black') #Plot the points\n",
    "\n",
    "plt.errorbar(time, amp_decay, xerr=time_sigma, yerr=amp_sigma, fmt='o', ecolor='Black') #Plot the error bars\n",
    "\n",
    "#Label the axises and title the graph\n",
    "plt.title('Pendulum with Length 36.4 cm and Initial Amplitude of 15º')\n",
    "plt.xlabel('Time (s)')\n",
    "plt.ylabel('Amplitude (deg)')\n",
    "\n",
    "#Fit a line to the data (Ae^(-x/tau))\n",
    "tau = 95 #Seconds. Tau = the time it takes for the amplitude to decay to Amp nought/e\n",
    "tau_err = 1\n",
    "\n",
    "y = 15*np.exp(-time/tau)\n",
    "\n",
    "plt.plot(time, y, color='Red')\n",
    "\n",
    "#Show the plot\n",
    "plt.show()"
   ]
  },
  {
   "cell_type": "code",
   "execution_count": null,
   "metadata": {},
   "outputs": [],
   "source": [
    "#Spring Measurements for 1000 g \n",
    "#Spring constant = 33N +- 1N\n",
    "\n",
    "time = np.array([4.5, 12.91, 25.81, 39.38, 67.87, 80.57, 186.40])\n",
    "time_sigma = 0.1\n",
    "\n",
    "amp_decay = np.array([4, 3, 2, 1.5, 1.2, .6, .3]) #cm\n",
    "amp_sigma = 0.1\n",
    "\n",
    "#Plotting the data with error bars for the spring with mass 1000 g\n",
    "\n",
    "plt.figure(dpi=1200)\n",
    "plt.plot(time, amp_decay, 'o', color='Black') #Plot the points\n",
    "\n",
    "plt.errorbar(time, amp_decay, xerr=time_sigma, yerr=amp_sigma, fmt='o', ecolor='Black') #Plot the error bars\n",
    "\n",
    "#Label the axises and title the graph\n",
    "plt.title('Spring with Mass 1000 g and Initial Amplitude of 4 cm')\n",
    "plt.xlabel('Time (s)')\n",
    "plt.ylabel('Amplitude (cm)')\n",
    "\n",
    "#Fit a line to the data (Ae^(-x/tau))\n",
    "tau = 40 #Seconds\n",
    "tau_err = 1\n",
    "\n",
    "y = 4*np.exp(-time/tau)\n",
    "\n",
    "plt.plot(time, y, color='Red')\n"
   ]
  }
 ],
 "metadata": {
  "kernelspec": {
   "display_name": "Python 3.9.13 ('astropy-workshop-M1')",
   "language": "python",
   "name": "python3"
  },
  "language_info": {
   "codemirror_mode": {
    "name": "ipython",
    "version": 3
   },
   "file_extension": ".py",
   "mimetype": "text/x-python",
   "name": "python",
   "nbconvert_exporter": "python",
   "pygments_lexer": "ipython3",
   "version": "3.9.13"
  },
  "orig_nbformat": 4,
  "vscode": {
   "interpreter": {
    "hash": "131333597bd84980aacdf9c035c42dff7c62a0d4dfc91e80df0f29e0e9f434b7"
   }
  }
 },
 "nbformat": 4,
 "nbformat_minor": 2
}
