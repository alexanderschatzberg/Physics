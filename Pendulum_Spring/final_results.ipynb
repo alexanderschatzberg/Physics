{
 "cells": [
  {
   "cell_type": "code",
   "execution_count": 24,
   "metadata": {},
   "outputs": [],
   "source": [
    "import numpy as np"
   ]
  },
  {
   "cell_type": "code",
   "execution_count": 26,
   "metadata": {},
   "outputs": [
    {
     "name": "stdout",
     "output_type": "stream",
     "text": [
      "Pendulum Length Percentage Difference:  175.0040830210792 0.9691635280779622\n",
      "Spring Weight Percentage Difference:  20.001342994152914 1.020264139627417\n",
      "————————————————––––––––––––––––––––––––––––––––––––––––––––––––––––––––––––––\n",
      "Pendulum Tau Percentage Difference:  64.81737192404518 0.7357601642476823\n",
      "Spring Tau Percentage Difference:  287.2029166057543 22.044123334825255\n"
     ]
    }
   ],
   "source": [
    "#Improvement Calculations\n",
    "pend_len_1 = 36.4 #cm\n",
    "pend_len_err_1 = 0.1 #cm\n",
    "\n",
    "pend_len_2 = 20.8 #cm\n",
    "pend_len_err_2 = 0.1 #cm\n",
    "\n",
    "spring_weight_1 = .2 #kg\n",
    "spring_weight_err_1 = 0.01 #kg\n",
    "\n",
    "spring_weight_2 = 1 #kg\n",
    "spring_weight_err_2 = 0.01 #kg\n",
    "\n",
    "\n",
    "#Treat them as normal distributions\n",
    "pend_len_gaus_1 = np.random.normal(pend_len_1, pend_len_err_1, 10000000)\n",
    "pend_len_gaus_2 = np.random.normal(pend_len_2, pend_len_err_2, 10000000)\n",
    "\n",
    "spring_weight_gaus_1 = np.random.normal(spring_weight_1, spring_weight_err_1, 10000000)\n",
    "spring_weight_gaus_2 = np.random.normal(spring_weight_2, spring_weight_err_2, 10000000)\n",
    "\n",
    "pend_percentage_difference = (pend_len_gaus_1/pend_len_gaus_2)*100\n",
    "spring_percentage_difference = (spring_weight_gaus_1/spring_weight_gaus_2)*100 \n",
    "\n",
    "#Calculate percent change made to the systems \n",
    "print('Pendulum Length Percentage Difference: ', np.mean(pend_percentage_difference), np.std(pend_percentage_difference))\n",
    "print('Spring Weight Percentage Difference: ', np.mean(spring_percentage_difference), np.std(spring_percentage_difference))\n",
    "\n",
    "\n",
    "#Tau comparision \n",
    "pend_1_tau = 105\n",
    "pend_1_tau_err = 1\n",
    "\n",
    "pend_2_tau = 162\n",
    "pend_2_tau_err = 1\n",
    "\n",
    "spring_1_tau = 14\n",
    "spring_1_tau_err = 1\n",
    "\n",
    "spring_2_tau = 40\n",
    "spring_2_tau_err = 1\n",
    "\n",
    "#Gaussians\n",
    "pend_1_tau_gaus = np.random.normal(pend_1_tau, pend_1_tau_err, 10000000)\n",
    "pend_2_tau_gaus = np.random.normal(pend_2_tau, pend_2_tau_err, 10000000)\n",
    "\n",
    "spring_1_tau_gaus = np.random.normal(spring_1_tau, spring_1_tau_err, 10000000)\n",
    "spring_2_tau_gaus = np.random.normal(spring_2_tau, spring_2_tau_err, 10000000)\n",
    "\n",
    "#percentage improvements \n",
    "pend_tau_percentage_difference = (pend_1_tau_gaus/pend_2_tau_gaus)*100\n",
    "spring_tau_percentage_difference = (spring_2_tau_gaus/spring_1_tau_gaus)*100\n",
    "\n",
    "print(\"————————————————––––––––––––––––––––––––––––––––––––––––––––––––––––––––––––––\")\n",
    "\n",
    "#Print results\n",
    "print('Pendulum Tau Percentage Difference: ', np.mean(pend_tau_percentage_difference), np.std(pend_tau_percentage_difference))\n",
    "print('Spring Tau Percentage Difference: ', np.mean(spring_tau_percentage_difference), np.std(spring_tau_percentage_difference))"
   ]
  }
 ],
 "metadata": {
  "kernelspec": {
   "display_name": "Python 3.9.13 ('astropy-workshop-M1')",
   "language": "python",
   "name": "python3"
  },
  "language_info": {
   "codemirror_mode": {
    "name": "ipython",
    "version": 3
   },
   "file_extension": ".py",
   "mimetype": "text/x-python",
   "name": "python",
   "nbconvert_exporter": "python",
   "pygments_lexer": "ipython3",
   "version": "3.9.13"
  },
  "orig_nbformat": 4,
  "vscode": {
   "interpreter": {
    "hash": "131333597bd84980aacdf9c035c42dff7c62a0d4dfc91e80df0f29e0e9f434b7"
   }
  }
 },
 "nbformat": 4,
 "nbformat_minor": 2
}
