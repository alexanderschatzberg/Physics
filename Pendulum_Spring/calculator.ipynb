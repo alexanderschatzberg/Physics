{
 "cells": [
  {
   "cell_type": "code",
   "execution_count": 1,
   "metadata": {},
   "outputs": [],
   "source": [
    "import numpy as np"
   ]
  },
  {
   "cell_type": "code",
   "execution_count": 2,
   "metadata": {},
   "outputs": [
    {
     "name": "stdout",
     "output_type": "stream",
     "text": [
      "Mean:  1.8460387990200409 \n",
      " Std: 0.015560077396277133\n"
     ]
    }
   ],
   "source": [
    "#Taylor's Average Request \n",
    "num1 = 1.9\n",
    "num1_err = 0.03\n",
    "\n",
    "num2 = 1.84\n",
    "num2_err = 0.03\n",
    "\n",
    "num3 = 1.84\n",
    "num3_err = 0.03\n",
    "\n",
    "num4 = 1.79\n",
    "num4_err = 0.03\n",
    "\n",
    "num5 = 1.86\n",
    "num5_err = 0.05\n",
    "\n",
    "gaus_1 = np.random.normal(num1, num1_err, 10000)\n",
    "gaus_2 = np.random.normal(num2, num2_err, 10000)\n",
    "gaus_3 = np.random.normal(num3, num3_err, 10000)\n",
    "gaus_4 = np.random.normal(num4, num4_err, 10000)\n",
    "gaus_5 = np.random.normal(num5, num5_err, 10000)\n",
    "\n",
    "avg = (gaus_1 + gaus_2 + gaus_3 + gaus_4 + gaus_5)/5\n",
    "\n",
    "print('Mean: ', np.mean(avg), '\\n Std:', np.std(avg))"
   ]
  },
  {
   "cell_type": "code",
   "execution_count": 4,
   "metadata": {},
   "outputs": [
    {
     "name": "stdout",
     "output_type": "stream",
     "text": [
      "33.314895246385106 1.09077512912267\n"
     ]
    }
   ],
   "source": [
    "#Calculating spring constant\n",
    "#k = m/(P/2pi)^2\n",
    "\n",
    "mass1 = 0.5 #kg\n",
    "mass_err1 = 0.01 #kg\n",
    "\n",
    "period1 = 0.77 #s\n",
    "period_err1 = 0.01 #s\n",
    "\n",
    "mass_gaus_1 = np.random.normal(mass1, mass_err1, 10000)\n",
    "period_gaus_1 = np.random.normal(period1, period_err1, 10000)\n",
    "\n",
    "k = mass_gaus_1/(period_gaus_1/(2*np.pi))**2\n",
    "print(np.mean(k), np.std(k))"
   ]
  },
  {
   "cell_type": "code",
   "execution_count": 6,
   "metadata": {},
   "outputs": [
    {
     "name": "stdout",
     "output_type": "stream",
     "text": [
      "Pendulum Length Percentage Difference:  175.02076161443495 0.9631411916946949\n",
      "Spring Weight Percentage Difference:  500.935749884834 25.775845004143676\n"
     ]
    }
   ],
   "source": [
    "#Improvement Calculations\n",
    "pend_len_1 = 36.4 #cm\n",
    "pend_len_err_1 = 0.1 #cm\n",
    "\n",
    "pend_len_2 = 20.8 #cm\n",
    "pend_len_err_2 = 0.1 #cm\n",
    "\n",
    "spring_weight_1 = 1.00 #kg\n",
    "spring_weight_err_1 = 0.01 #kg\n",
    "\n",
    "spring_weight_2 = .2 #kg\n",
    "spring_weight_err_2 = 0.01 #kg\n",
    "\n",
    "pend_len_gaus_1 = np.random.normal(pend_len_1, pend_len_err_1, 10000)\n",
    "pend_len_gaus_2 = np.random.normal(pend_len_2, pend_len_err_2, 10000)\n",
    "\n",
    "spring_weight_gaus_1 = np.random.normal(spring_weight_1, spring_weight_err_1, 10000)\n",
    "spring_weight_gaus_2 = np.random.normal(spring_weight_2, spring_weight_err_2, 10000)\n",
    "\n",
    "pend_percentage_difference = (pend_len_gaus_1/pend_len_gaus_2)*100\n",
    "spring_percentage_difference = (spring_weight_gaus_1/spring_weight_gaus_2)*100 \n",
    "\n",
    "print('Pendulum Length Percentage Difference: ', np.mean(pend_percentage_difference), np.std(pend_percentage_difference))\n",
    "print('Spring Weight Percentage Difference: ', np.mean(spring_percentage_difference), np.std(spring_percentage_difference))"
   ]
  }
 ],
 "metadata": {
  "kernelspec": {
   "display_name": "Python 3.9.13 ('astropy-workshop-M1')",
   "language": "python",
   "name": "python3"
  },
  "language_info": {
   "codemirror_mode": {
    "name": "ipython",
    "version": 3
   },
   "file_extension": ".py",
   "mimetype": "text/x-python",
   "name": "python",
   "nbconvert_exporter": "python",
   "pygments_lexer": "ipython3",
   "version": "3.9.13"
  },
  "orig_nbformat": 4,
  "vscode": {
   "interpreter": {
    "hash": "131333597bd84980aacdf9c035c42dff7c62a0d4dfc91e80df0f29e0e9f434b7"
   }
  }
 },
 "nbformat": 4,
 "nbformat_minor": 2
}
