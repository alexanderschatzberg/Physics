{
 "cells": [
  {
   "cell_type": "code",
   "execution_count": null,
   "metadata": {},
   "outputs": [],
   "source": [
    "import numpy as np"
   ]
  },
  {
   "cell_type": "code",
   "execution_count": null,
   "metadata": {},
   "outputs": [],
   "source": [
    "#Taylor's Average Request \n",
    "num1 = 1.9\n",
    "num1_err = 0.03\n",
    "\n",
    "num2 = 1.84\n",
    "num2_err = 0.03\n",
    "\n",
    "num3 = 1.84\n",
    "num3_err = 0.03\n",
    "\n",
    "num4 = 1.79\n",
    "num4_err = 0.03\n",
    "\n",
    "num5 = 1.86\n",
    "num5_err = 0.05\n",
    "\n",
    "gaus_1 = np.random.normal(num1, num1_err, 1000)\n",
    "gaus_2 = np.random.normal(num2, num2_err, 1000)\n",
    "gaus_3 = np.random.normal(num3, num3_err, 1000)\n",
    "gaus_4 = np.random.normal(num4, num4_err, 1000)\n",
    "gaus_5 = np.random.normal(num5, num5_err, 1000)\n",
    "\n",
    "avg = (gaus_1 + gaus_2 + gaus_3 + gaus_4 + gaus_5)/5\n",
    "\n",
    "print('Mean: ', np.mean(avg), '\\n Std:', np.std(avg))"
   ]
  }
 ],
 "metadata": {
  "kernelspec": {
   "display_name": "Python 3.9.13 ('astropy-workshop-M1')",
   "language": "python",
   "name": "python3"
  },
  "language_info": {
   "name": "python",
   "version": "3.9.13"
  },
  "orig_nbformat": 4,
  "vscode": {
   "interpreter": {
    "hash": "131333597bd84980aacdf9c035c42dff7c62a0d4dfc91e80df0f29e0e9f434b7"
   }
  }
 },
 "nbformat": 4,
 "nbformat_minor": 2
}
