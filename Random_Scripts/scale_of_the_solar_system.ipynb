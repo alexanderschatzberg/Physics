{
 "cells": [
  {
   "cell_type": "code",
   "execution_count": 30,
   "metadata": {},
   "outputs": [],
   "source": [
    "import numpy as np \n",
    "import pandas as pd"
   ]
  },
  {
   "cell_type": "code",
   "execution_count": 31,
   "metadata": {},
   "outputs": [
    {
     "name": "stdout",
     "output_type": "stream",
     "text": [
      "   Id     Name                Type  Order from Sun  Diameter (Earth=1)  Diameter (km)  Mass (Earth=1)  Mean Distance from Sun (AU)  Orbital Period (years)  Orbital Eccentricity  Mean Orbital Velocity (km/sec)  Rotation Period (days)  Inclination of Axis (degrees)  Mean Temperature at Surface (C)  Gravity at Equator (Earth=1)  Escape Velocity (km/sec)  Mean Density (water=1) Atmospheric Composition  Number of Moons  Rings  Parent               Image                                            URI\n",
      "0   1      Sun                Star               0             109.000        1392000      333000.000                         0.00                    0.00                0.0000                            0.00                   25.05                           7.25                             5600                         28.00                    617.70                    1.40                   H2+He                0  False     NaN      Images\\Sun.jpg               http://en.wikipedia.org/wiki/Sun\n",
      "1   2  Mercury  Terrestrial planet               1               0.382           4878           0.055                         0.39                    0.24                0.2056                           47.89                   58.65                           0.00                              125                          0.38                      4.25                    5.43                    none                0  False     1.0  Images\\Mercury.jpg  http://en.wikipedia.org/wiki/Mercury_(planet)\n",
      "2   3    Venus  Terrestrial planet               2               0.949          12104           0.815                         0.72                    0.62                0.0068                           35.03                 -243.00                         177.40                              465                          0.90                     10.36                    5.25                     CO2                0  False     1.0    Images\\Venus.jpg             http://en.wikipedia.org/wiki/Venus\n",
      "3   4    Earth  Terrestrial planet               3               1.000          12756           1.000                         1.00                    1.00                0.0167                           29.79                    1.00                          23.45                               15                          1.00                     11.18                    5.52                   N2+O2                1  False     1.0    Images\\Earth.jpg             http://en.wikipedia.org/wiki/Earth\n",
      "4   5     Mars  Terrestrial planet               4               0.532           6787           0.107                         1.52                    1.88                0.0934                           24.13                    1.03                          23.98                              -53                          0.38                      5.02                    3.93                     CO2                2  False     1.0     Images\\Mars.jpg              http://en.wikipedia.org/wiki/Mars\n",
      "5   6  Jupiter           Gas giant               6              11.209         142800         318.000                         5.20                   11.86                0.0483                           13.06                    0.41                           3.08                             -150                          2.64                     59.54                    1.33                   H2+He               63   True     1.0  Images\\Jupiter.jpg           http://en.wikipedia.org/wiki/Jupiter\n",
      "6   7   Saturn           Gas giant               7               9.440         120000          95.000                         9.54                   29.46                0.0560                            9.64                    0.44                          26.73                             -170                          0.93                     35.49                    0.71                   H2+He               62   True     1.0   Images\\Saturn.jpg            http://en.wikipedia.org/wiki/Saturn\n",
      "7   8   Uranus           Gas giant               8               4.007          51118          15.000                        19.18                   84.01                0.0461                            6.81                   -0.72                          97.92                             -200                          0.89                     21.29                    1.24                   H2+He               27   True     1.0   Images\\Uranus.jpg            http://en.wikipedia.org/wiki/Uranus\n",
      "8   9  Neptune           Gas giant               9               3.883          49528          17.000                        30.06                  164.80                0.0097                            5.43                    0.72                          28.80                             -210                          1.12                     23.71                    1.67                   H2+He               13   True     1.0  Images\\Neptune.jpg           http://en.wikipedia.org/wiki/Neptune\n",
      "9  11    Pluto        Dwarf planet              10               0.180           2300           0.002                        39.44                  247.70                0.2482                            4.74                   -6.38                         122.00                             -220                          0.06                      1.27                    2.03                     CH4                3  False     1.0    Images\\Pluto.jpg            http://en.wikipedia.org/wiki/Pluto \n"
     ]
    }
   ],
   "source": [
    "#Read the data \n",
    "body_df = pd.read_csv('../Data/SolarSystemData.csv')\n",
    "print(body_df.to_string())"
   ]
  },
  {
   "cell_type": "code",
   "execution_count": 75,
   "metadata": {},
   "outputs": [
    {
     "name": "stdout",
     "output_type": "stream",
     "text": [
      "Sun: Radius - 0.99951 Solar radii, Distance - 0.000 Solar radii\n",
      "Mercury: Radius - 0.00350 Solar radii, Distance - 83.787 Solar radii\n",
      "Venus: Radius - 0.00869 Solar radii, Distance - 154.683 Solar radii\n",
      "Earth: Radius - 0.00916 Solar radii, Distance - 214.838 Solar radii\n",
      "Mars: Radius - 0.00487 Solar radii, Distance - 326.553 Solar radii\n",
      "Jupiter: Radius - 0.10254 Solar radii, Distance - 1117.155 Solar radii\n",
      "Saturn: Radius - 0.08616 Solar radii, Distance - 2049.551 Solar radii\n",
      "Uranus: Radius - 0.03670 Solar radii, Distance - 4120.585 Solar radii\n",
      "Neptune: Radius - 0.03556 Solar radii, Distance - 6458.018 Solar radii\n",
      "Pluto: Radius - 0.00165 Solar radii, Distance - 8473.194 Solar radii\n"
     ]
    },
    {
     "data": {
      "text/plain": [
       "{'Sun': [0.9995117327742195, 0.0],\n",
       " 'Mercury': [0.0035025993049372433, 83.78665594393543],\n",
       " 'Venus': [0.008691156618893069, 154.6830571272654],\n",
       " 'Earth': [0.00915931872361203, 214.83757934342418],\n",
       " 'Mars': [0.004873337737312232, 326.55312060200475],\n",
       " 'Jupiter': [0.102536117413907, 1117.1554125858058],\n",
       " 'Saturn': [0.08616480454950168, 2049.5505069362666],\n",
       " 'Uranus': [0.03670477065801189, 4120.584771806876],\n",
       " 'Neptune': [0.035563086997730996, 6458.017635063331],\n",
       " 'Pluto': [0.0016514920871987821, 8473.19412930465]}"
      ]
     },
     "execution_count": 75,
     "metadata": {},
     "output_type": "execute_result"
    }
   ],
   "source": [
    "# 1. Calculate the relative size and distances of the planets\n",
    "\n",
    "# Define the size of the Sun in km\n",
    "sun_radius_km = 696340\n",
    "\n",
    "ds_dict = {}\n",
    "\n",
    "# Loop over each row in the dataframe and calculate the size and distance of each planet relative to the Sun\n",
    "for index, row in body_df.iterrows():\n",
    "    # Calculate the size of the planet relative to the Sun\n",
    "    planet_size = row['Diameter (km)'] / (sun_radius_km * 2)\n",
    "    \n",
    "    # Calculate the distance of the planet relative to the Sun\n",
    "    planet_distance = row['Mean Distance from Sun (AU)'] * 149.6e6 / sun_radius_km\n",
    "\n",
    "    # Add the results to the dictionary\n",
    "    ds_dict[row['Name']] = [planet_size, planet_distance]\n",
    "    \n",
    "    # Print the results\n",
    "    print(f\"{row['Name']}: Radius - {planet_size:.5f} Solar radii, Distance - {planet_distance:.3f} Solar radii\")\n",
    "\n",
    "ds_dict"
   ]
  },
  {
   "attachments": {},
   "cell_type": "markdown",
   "metadata": {},
   "source": [
    "### Which planets have anomalous eccentricities? Which have anomalous inclinations? Which have anomalous rotation periods?\n",
    "\n",
    "- Anormal Orbital Eccentricities \n",
    "  - Both Mercury and Pluto have higher than average orbital eccentricities, meaning that they have more eliptical orbits. \n",
    "- Anormal Inclination of the Axis (I don't see an orbital inclination field in the csv)\n",
    "  - There doesn't seem to be a real pattern with the inclination of the axis, however Mercury and Jupiter have very low inclinations \n",
    "  - Mercury: 0 (Very strange, I wonder why this is. Could it be due to the proximity to the sun?)\n",
    "  - Jupiter: 3.08º, relatively low \n",
    "- Anormal Rotational Periods \n",
    "  - Venus spins very slowly, 243 times slower than Earth \n",
    "  - So does Mercury, 58.65 times slower than Earth\n",
    "  - The Sun is also fairly slow, at 25.05 days. This makes sense, as it is much larger than Earth. \n",
    "\n",
    "Side Note: To more rigorously determine anomalies, it would be best to slap each column in a PDF and set a firm limit on how unlikely a measurement has to be to be considered an \"anomaly\". I would place this limit somewhere around 2σ. "
   ]
  },
  {
   "cell_type": "code",
   "execution_count": 33,
   "metadata": {},
   "outputs": [
    {
     "name": "stdout",
     "output_type": "stream",
     "text": [
      "To lower: Distance - 0.001 ft. Angle - 45.0 degrees\n",
      "To chapel: Distance - 1133.801 ft. Angle - 6.278805427268508 degrees\n",
      "To observatory: Distance - 2656.029 ft. Angle - 7.55045236984269 degrees\n",
      "To twin: Distance - 7265.783 ft. Angle - 16.404670869632152 degrees\n",
      "{'lower': 0.001414213562373095, 'chapel': 1133.8011289463423, 'observatory': 2656.028990805635, 'twin': 7265.7830961294185}\n"
     ]
    },
    {
     "data": {
      "text/plain": [
       "\"\\nThe range of angles of inclination isn't as diverse as the axial tilt of the planets, but I don't see why that would be relevant. \\nIt would make much more sense to compare the orbital inclination of the planets, but it wasn't provided, and it's pretty much 0 for all the bodies considered here, except Pluto. \\n\""
      ]
     },
     "execution_count": 33,
     "metadata": {},
     "output_type": "execute_result"
    }
   ],
   "source": [
    "#Campus data \n",
    "campus_df = pd.read_csv('../Data/CampusDistances.csv')\n",
    "\n",
    "local_distances = {}\n",
    "\n",
    "#Calculate straight line distances between the reference point and the other points \n",
    "for index1, row1 in campus_df.iterrows():\n",
    "  #Calculate the distance \n",
    "  distance = np.sqrt((row1['x'])**2 + (row1['y'])**2)\n",
    "\n",
    "  #Find the inclination angles from the reference point\n",
    "  angle = np.arctan(row1['y']/row1['x'])\n",
    "\n",
    "  #Print the results\n",
    "  print(f\"To {row1['location']}: Distance - {distance:.3f} ft. Angle - { np.degrees(angle)} degrees\") \n",
    "  # Ignore the 'lower' inclination angle, I just made the distances not 0 so the angle would be defined. \n",
    "  # I know it's hacky, but it works. \n",
    "\n",
    "  local_distances[row1['location']] = distance\n",
    "\n",
    "print(local_distances)\n",
    "\n",
    "'''\n",
    "The range of angles of inclination isn't as diverse as the axial tilt of the planets, but I don't see why that would be relevant. \n",
    "It would make much more sense to compare the orbital inclination of the planets, but it wasn't provided, and it's pretty much 0 for all the bodies considered here, except Pluto. \n",
    "'''"
   ]
  },
  {
   "attachments": {},
   "cell_type": "markdown",
   "metadata": {},
   "source": [
    "To lower: Distance - 0.001 ft. Angle - 45.0 degrees\n",
    "\n",
    "To chapel: Distance - 1133.801 ft. Angle - 6.278805427268508 degrees\n",
    "\n",
    "To observatory: Distance - 2656.029 ft. Angle - 7.55045236984269 degrees\n",
    "\n",
    "To twin: Distance - 7265.783 ft. Angle - 16.404670869632152 degrees\n",
    "\n",
    "The range of angles of inclination isn't as diverse as the axial tilt of the planets, but I don't see why that would be relevant. \n",
    "It would make much more sense to compare the orbital inclination of the planets, but it wasn't provided, and it's pretty much 0 for all the bodies considered here, except Pluto. "
   ]
  },
  {
   "cell_type": "code",
   "execution_count": 34,
   "metadata": {},
   "outputs": [],
   "source": [
    "solar_radii_feet = 2.282 * 10**9 #Feet\n",
    "\n",
    "#Given a campus location and a planet, calculate the size of that planet and the size of the sun if they were at that location.\n",
    "def calc_scale(location, planet, scaling_factor=None):\n",
    "  #Get the distance from to the location \n",
    "  local_distance = local_distances[location]\n",
    "\n",
    "  #Get the size of the planet and the distance of the planet from the sun\n",
    "  planet_size = ds_dict[planet][0]\n",
    "  planet_distance = ds_dict[planet][1]\n",
    "\n",
    "  #Calculate the scaling factor \n",
    "  if not scaling_factor:\n",
    "    scaling_factor = local_distance / (planet_distance * solar_radii_feet) #Convert to feet \n",
    "\n",
    "  #Calculate the size of the planet and the sun at the location\n",
    "  planet_size = (planet_size * solar_radii_feet) * scaling_factor\n",
    "  sun_size = solar_radii_feet * scaling_factor\n",
    "\n",
    "  return planet_size, sun_size, scaling_factor"
   ]
  },
  {
   "cell_type": "code",
   "execution_count": 35,
   "metadata": {},
   "outputs": [
    {
     "name": "stdout",
     "output_type": "stream",
     "text": [
      "Planet: Mercury, Location: chapel\n",
      "(0.047397178004595655, 13.532001202017277, 5.929886591593899e-09)\n",
      "Planet: Mercury, Location: observatory\n",
      "(0.11103206342682957, 31.69990448816667, 1.3891281546085306e-08)\n",
      "Planet: Mercury, Location: twin\n",
      "(0.30373723041717493, 86.71766421840738, 3.800072928063426e-08)\n",
      "Planet: Venus, Location: chapel\n",
      "(0.0637047351491316, 7.329833984426025, 3.2120219037800285e-09)\n",
      "Planet: Venus, Location: observatory\n",
      "(0.14923395213491256, 17.170781597756946, 7.524444170796208e-09)\n",
      "Planet: Venus, Location: twin\n",
      "(0.4082416007294938, 46.97206811830399, 2.0583728360343552e-08)\n",
      "Planet: Earth, Location: chapel\n",
      "(0.048338125671255165, 5.277480468786738, 2.3126557707216205e-09)\n",
      "Planet: Earth, Location: observatory\n",
      "(0.11323631619891941, 12.362962750385, 5.417599802973269e-09)\n",
      "Planet: Earth, Location: twin\n",
      "(0.30976714296198826, 33.819889045178876, 1.482028441944736e-08)\n",
      "Planet: Mars, Location: chapel\n",
      "(0.016920358372675432, 3.472026624201801, 1.5214840596852765e-09)\n",
      "Planet: Mars, Location: observatory\n",
      "(0.03963742955028726, 8.133528125253289, 3.56421039669294e-09)\n",
      "Planet: Mars, Location: twin\n",
      "(0.10843140891814652, 22.24992700340715, 9.750187118057472e-09)\n",
      "Planet: Jupiter, Location: chapel\n",
      "(0.10406391480713804, 1.0149000901512957, 4.447414943695423e-10)\n",
      "Planet: Jupiter, Location: observatory\n",
      "(0.2437788846456221, 2.3774928366125, 1.0418461159563978e-09)\n",
      "Planet: Jupiter, Location: twin\n",
      "(0.6668769450118783, 6.503824816380551, 2.8500546960475684e-09)\n",
      "Planet: Saturn, Location: chapel\n",
      "(0.04766594057723499, 0.5531950176925302, 2.424167474550965e-10)\n",
      "Planet: Saturn, Location: observatory\n",
      "(0.11166166342135149, 1.2959080451137317, 5.678825789280156e-10)\n",
      "Planet: Saturn, Location: twin\n",
      "(0.3054595523546825, 3.5450617447776596, 1.5534889328561173e-09)\n",
      "Planet: Uranus, Location: chapel\n",
      "(0.01009951565479428, 0.2751553946187037, 1.205764218311585e-10)\n",
      "Planet: Uranus, Location: observatory\n",
      "(0.023659004817853255, 0.6445757429814911, 2.824608864949567e-10)\n",
      "Planet: Uranus, Location: twin\n",
      "(0.06472112987918141, 1.7632893141386272, 7.726947038293722e-10)\n",
      "Planet: Neptune, Location: chapel\n",
      "(0.006243629309390849, 0.17556488585451555, 7.693465637796475e-11)\n",
      "Planet: Neptune, Location: observatory\n",
      "(0.014626251491738173, 0.4112762059342981, 1.802262076837415e-10)\n",
      "Planet: Neptune, Location: twin\n",
      "(0.040011299280349494, 1.1250794758875207, 4.930234337806839e-10)\n",
      "Planet: Pluto, Location: chapel\n",
      "(0.00022098674529785542, 0.13381035671365968, 5.863731670186665e-11)\n",
      "Planet: Pluto, Location: observatory\n",
      "(0.00051768091167835, 0.31346254438095844, 1.3736307816869344e-10)\n",
      "Planet: Pluto, Location: twin\n",
      "(0.001416158193409069, 0.857502257737801, 3.757678605336551e-10)\n"
     ]
    }
   ],
   "source": [
    "# Can you scale the Sun such that when you place it at the reference point, any three planets (doesn't matter which) scale to the three distances mapped above?\n",
    "# If so, what is the radius of the scaled Sun in feet?\n",
    "\n",
    "for row, index in body_df.iterrows(): \n",
    "  for key in local_distances: \n",
    "    if (key == \"lower\" or index['Name'] == \"Sun\"):\n",
    "      continue\n",
    "    print(f\"Planet: {index['Name']}, Location: {key}\")\n",
    "    print(calc_scale(key, index['Name']))"
   ]
  },
  {
   "cell_type": "code",
   "execution_count": 52,
   "metadata": {},
   "outputs": [],
   "source": [
    "def calc_distance(scaling_factor, planet):\n",
    "  distance = scaling_factor * ds_dict[planet][1] * solar_radii_feet\n",
    "  size = ds_dict[planet][0] * solar_radii_feet * scaling_factor\n",
    "  return distance, size"
   ]
  },
  {
   "cell_type": "code",
   "execution_count": 74,
   "metadata": {},
   "outputs": [
    {
     "name": "stdout",
     "output_type": "stream",
     "text": [
      "Sun's Radius: 1.1250794758875207 feet \n",
      "\n",
      "The scaling factor is:  4.930234337806839e-10\n",
      "The results below are presented in distance (feet), radius (feet) \n",
      "\n",
      "Mercury\n",
      "    (94.26664695577088, 0.003940702590242788)\n",
      "Venus\n",
      "    (174.0307328414232, 0.00977824193364057)\n",
      "Earth\n",
      "    (241.7093511686433, 0.010304961509048177)\n",
      "Mars\n",
      "    (367.39821377633785, 0.005482892267318121)\n",
      "Jupiter\n",
      "    (1256.8886260769452, 0.11536128123957977)\n",
      "Saturn\n",
      "    (2305.9072101488573, 0.096942253142504)\n",
      "Uranus\n",
      "    (4635.985355414579, 0.041295784134487666)\n",
      "Neptune\n",
      "    (7265.7830961294185, 0.040011299280349494)\n",
      "Pluto\n",
      "    (9533.016810091292, 0.0018580598518979933)\n"
     ]
    }
   ],
   "source": [
    "scaling_factor = (calc_scale(\"twin\", \"Neptune\"))[2]\n",
    "\n",
    "sun_size = solar_radii_feet * scaling_factor\n",
    "print(f\"Sun's Radius: {sun_size} feet \\n\")\n",
    "\n",
    "print(\"The scaling factor is: \", scaling_factor)\n",
    "print(\"The results below are presented in distance (feet), radius (feet) \\n\")\n",
    "\n",
    "#Calculate the distances for each planet \n",
    "for row, index in body_df.iterrows():\n",
    "  if (index['Name'] == \"Sun\"):\n",
    "    continue\n",
    "  print(index['Name'])\n",
    "  print(\"   \", calc_distance(scaling_factor, index['Name']))"
   ]
  },
  {
   "attachments": {},
   "cell_type": "markdown",
   "metadata": {},
   "source": [
    "I was feeling that special kind of lazy where doing the tedious, yet simple thing 21 times seemed way easier than writing a script to do it for me. Thats why I tested all of the planets at each of the locations, and Neptune at Twin Peaks seemed to give me planets closest to the locations. \n",
    "\n",
    "Jupiter: Distance is 10% farther away than the chapel \n",
    "Saturn: Distance is 13% closer than the observatory \n",
    "Neptune: 0% diference in distance \n",
    "\n"
   ]
  }
 ],
 "metadata": {
  "kernelspec": {
   "display_name": "physics",
   "language": "python",
   "name": "python3"
  },
  "language_info": {
   "codemirror_mode": {
    "name": "ipython",
    "version": 3
   },
   "file_extension": ".py",
   "mimetype": "text/x-python",
   "name": "python",
   "nbconvert_exporter": "python",
   "pygments_lexer": "ipython3",
   "version": "3.10.9"
  },
  "orig_nbformat": 4
 },
 "nbformat": 4,
 "nbformat_minor": 2
}
