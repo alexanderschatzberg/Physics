{
 "cells": [
  {
   "cell_type": "code",
   "execution_count": 2,
   "metadata": {},
   "outputs": [],
   "source": [
    "import pandas as pd\n",
    "import numpy as np"
   ]
  },
  {
   "cell_type": "code",
   "execution_count": 3,
   "metadata": {},
   "outputs": [
    {
     "name": "stdout",
     "output_type": "stream",
     "text": [
      "1.8981300000000001e+28\n",
      "911880.0\n",
      "The ratio of the mass of Io to the mass of Jupiter is: 4.709898689763082e-05\n",
      "489600.0\n",
      "The ratio of the mass of Europa to the mass of Jupiter is: 2.5288046656446077e-05\n",
      "1511640.0\n",
      "The ratio of the mass of Ganymede to the mass of Jupiter is: 7.807684405177727e-05\n",
      "1098540.0\n",
      "The ratio of the mass of Callisto to the mass of Jupiter is: 5.6740054685400884e-05\n",
      "The ratio of the mass of Mercury to the mass of the Sun is: 1.6602312719959777e-07\n",
      "The ratio of the mass of Venus to the mass of the Sun is: 2.4477124183006533e-06\n",
      "The ratio of the mass of Earth to the mass of the Sun is: 3.002609351432881e-06\n",
      "The ratio of the mass of Mars to the mass of the Sun is: 3.2269984917043736e-07\n",
      "The ratio of the mass of Jupiter to the mass of the Sun is: 0.0009543137254901962\n",
      "The ratio of the mass of Saturn to the mass of the Sun is: 0.00028573102061337354\n",
      "The ratio of the mass of Uranus to the mass of the Sun is: 4.364519859225741e-05\n",
      "The ratio of the mass of Neptune to the mass of the Sun is: 5.148818501759678e-05\n"
     ]
    }
   ],
   "source": [
    "#Problem 3: The Moons of Jupiter and the Planets \n",
    "#Load the Moons data \n",
    "moons = pd.read_csv('../Data/Moons.csv')\n",
    "\n",
    "#Filter galielan moons \n",
    "galielan_moons = moons[moons['Discovery'].str.contains('Galileo')]\n",
    "galielan_moons.head()\n",
    "\n",
    "#Define masses of the planets and the sun \n",
    "sun_mass = 1.989 * (10**30)\n",
    "planet_mass_dict = {}\n",
    "planet_mass_dict['Mercury'] = 3.3022 * (10**23)\n",
    "planet_mass_dict['Venus'] = 4.8685 * (10**24)\n",
    "planet_mass_dict['Earth'] = 5.97219 * (10**24)\n",
    "planet_mass_dict['Mars'] = 6.4185 * (10**23)\n",
    "planet_mass_dict['Jupiter'] = 1.89813 * (10**27)\n",
    "planet_mass_dict['Saturn'] = 5.68319 * (10**26)\n",
    "planet_mass_dict['Uranus'] = 8.68103 * (10**25)\n",
    "planet_mass_dict['Neptune'] = 1.0241 * (10**26)\n",
    "\n",
    "print(planet_mass_dict['Jupiter'] * 10)\n",
    "\n",
    "\n",
    "\n",
    "# Part 0 (not actually relevant, nor part of the problem set. I treated \"size\" like \"mass\", which was not the right move): Compare the ratios of masses of the moons of Jupiter to the mass of Jupiter to the ratio of the masses of the planets to the mass of the sun.\n",
    "\n",
    "#Calculate the ratio of the mass of the moons of Jupiter to the mass of Jupiter\n",
    "for item, index in galielan_moons.iterrows():\n",
    "  jupiter_moon_ratio = ((float(index['Mass (1020 kg)'])) * (10**20)) / float(planet_mass_dict['Jupiter'])\n",
    "  print(float(index['Mass (1020 kg)'])* 1020)\n",
    "  print(f'The ratio of the mass of{index[\"Satellite Name\"]} to the mass of Jupiter is: {str(jupiter_moon_ratio)}')\n",
    "\n",
    "#Calculate the ratio of the mass of the planets to the mass of the sun\n",
    "for planet, mass in planet_mass_dict.items():\n",
    "  planet_sun_ratio = mass / sun_mass\n",
    "  print(f'The ratio of the mass of {planet} to the mass of the Sun is: {str(planet_sun_ratio)}')"
   ]
  },
  {
   "cell_type": "code",
   "execution_count": 8,
   "metadata": {},
   "outputs": [
    {
     "name": "stdout",
     "output_type": "stream",
     "text": [
      "The ratio of the size of Io to the size of Jupiter is: 0.025961579722790406\n",
      "The ratio of the size of Europa to the size of Jupiter is: 0.022442820157056828\n",
      "The ratio of the size of Ganymede to the size of Jupiter is: 0.0376335626725408\n",
      "The ratio of the size of Callisto to the size of Jupiter is: 0.03432936161691293\n"
     ]
    }
   ],
   "source": [
    "#3.A Compare the sizes of the planets to the sizes of the moons of Jupiter.\n",
    "\n",
    "#import data \n",
    "planet_physical = pd.read_csv(\"../Data/planet_masses.csv\")\n",
    "\n",
    "diam_jupiter = 139822\n",
    "diam_sun = 1.3927 * (10**6)\n",
    "\n",
    "#For the moons \n",
    "for index, row in galielan_moons.iterrows():\n",
    "  moon_jup_ratio = (float(row['Diameter (km)'])) / diam_jupiter\n",
    "  print(f'The ratio of the size of{row[\"Satellite Name\"]} to the size of Jupiter is: {str(moon_jup_ratio)}')\n",
    "\n",
    "#For the planets\n",
    "for index, row in planet_physical.iterrows():\n",
    "  sun_planet_radio = (float(row['Mean Diameter (km)'])) / diam_sun\n",
    "  print(f'The ratio of the size of {row[\"Planet\"]} to the size of the Sun is: {str(sun_planet_radio)}')\n"
   ]
  },
  {
   "cell_type": "code",
   "execution_count": null,
   "metadata": {},
   "outputs": [
    {
     "name": "stdout",
     "output_type": "stream",
     "text": [
      "The ratio of the orbital distance of Io to the size of Jupiter is: 3.0181662137033327\n",
      "The ratio of the orbital distance of Europa to the size of Jupiter is: 4.799027320841081\n",
      "The ratio of the orbital distance of Ganymede to the size of Jupiter is: 7.6526963238449435\n",
      "The ratio of the orbital distance of Callisto to the size of Jupiter is: 13.467315119439279\n",
      "The ratio of the orbital distance of Mercury to the size of the Sun is: 0.004414446758095785\n",
      "The ratio of the orbital distance of Venus to the size of the Sun is: 0.008220004308178359\n",
      "The ratio of the orbital distance of Earth to the size of the Sun is: 0.011340561499246069\n",
      "The ratio of the orbital distance of Mars to the size of the Sun is: 0.017353342428376536\n",
      "The ratio of the orbital distance of Jupiter to the size of the Sun is: 0.059214475479284844\n",
      "The ratio of the orbital distance of Saturn to the size of the Sun is: 0.10861061247935665\n",
      "The ratio of the orbital distance of Uranus to the size of the Sun is: 0.21851511452574138\n",
      "The ratio of the orbital distance of Neptune to the size of the Sun is: 0.3422718460544267\n"
     ]
    }
   ],
   "source": [
    "# 3.b ) Compute the ratio of orbital distances of the Galilean Moons to the size of Jupiter and compare to the ratios of the planetary orbital radii to the size of the Sun.\n",
    "\n",
    "sun_diameter = 1_392_700\n",
    "jupiter_diameter = 139_820\n",
    "\n",
    "#import planet data \n",
    "planets = pd.read_csv('../Data/planetary_orbits.csv')\n",
    "\n",
    "for item, index in galielan_moons.iterrows():\n",
    "  jupiter_moon_ratio = (float(index['Semimajor Axis (km × 1000)']) * 1000) / jupiter_diameter\n",
    "  print(f'The ratio of the orbital distance of{index[\"Satellite Name\"]} to the size of Jupiter is: {str(jupiter_moon_ratio)}')\n",
    "\n",
    "for planet, diameter in planets.iterrows():\n",
    "  planet_sun_ratio = (float(diameter['Semimajor Axis (106 km)']) * 106) / sun_diameter\n",
    "  print(f'The ratio of the orbital distance of {diameter[\"Major Planet\"]} to the size of the Sun is: {str(planet_sun_ratio)}')\n"
   ]
  },
  {
   "cell_type": "code",
   "execution_count": null,
   "metadata": {},
   "outputs": [
    {
     "name": "stdout",
     "output_type": "stream",
     "text": [
      " Io,  Europa: Ratio: 0.4985915492957747\n",
      " Io,  Ganymede: Ratio: 0.24720670391061453\n",
      " Io,  Callisto: Ratio: 0.1060515278609946\n",
      " Europa,  Io: Ratio: 2.005649717514124\n",
      " Europa,  Ganymede: Ratio: 0.49581005586592175\n",
      " Europa,  Callisto: Ratio: 0.21270221689634508\n",
      " Ganymede,  Io: Ratio: 4.045197740112995\n",
      " Ganymede,  Europa: Ratio: 2.016901408450704\n",
      " Ganymede,  Callisto: Ratio: 0.4289994008388256\n",
      " Callisto,  Io: Ratio: 9.429378531073446\n",
      " Callisto,  Europa: Ratio: 4.701408450704226\n",
      " Callisto,  Ganymede: Ratio: 2.331005586592179\n",
      "Mercury, Venus: Ratio: 0.4\n",
      "Mercury, Earth: Ratio: 0.24\n",
      "Mercury, Mars: Ratio: 0.1276595744680851\n",
      "Mercury, Jupiter: Ratio: 0.02023608768971332\n",
      "Mercury, Saturn: Ratio: 0.008146639511201629\n",
      "Mercury, Uranus: Ratio: 0.0028568027615760026\n",
      "Mercury, Neptune: Ratio: 0.0014561339643247178\n",
      "Venus, Mercury: Ratio: 2.5\n",
      "Venus, Earth: Ratio: 0.6\n",
      "Venus, Mars: Ratio: 0.3191489361702128\n",
      "Venus, Jupiter: Ratio: 0.050590219224283306\n",
      "Venus, Saturn: Ratio: 0.02036659877800407\n",
      "Venus, Uranus: Ratio: 0.007142006903940006\n",
      "Venus, Neptune: Ratio: 0.0036403349108117948\n",
      "Earth, Mercury: Ratio: 4.166666666666667\n",
      "Earth, Venus: Ratio: 1.6666666666666667\n",
      "Earth, Mars: Ratio: 0.5319148936170213\n",
      "Earth, Jupiter: Ratio: 0.08431703204047218\n",
      "Earth, Saturn: Ratio: 0.03394433129667346\n",
      "Earth, Uranus: Ratio: 0.01190334483990001\n",
      "Earth, Neptune: Ratio: 0.006067224851352991\n",
      "Mars, Mercury: Ratio: 7.833333333333333\n",
      "Mars, Venus: Ratio: 3.1333333333333333\n",
      "Mars, Earth: Ratio: 1.88\n",
      "Mars, Jupiter: Ratio: 0.15851602023608768\n",
      "Mars, Saturn: Ratio: 0.06381534283774609\n",
      "Mars, Uranus: Ratio: 0.02237828829901202\n",
      "Mars, Neptune: Ratio: 0.011406382720543623\n",
      "Jupiter, Mercury: Ratio: 49.416666666666664\n",
      "Jupiter, Venus: Ratio: 19.766666666666666\n",
      "Jupiter, Earth: Ratio: 11.86\n",
      "Jupiter, Mars: Ratio: 6.308510638297872\n",
      "Jupiter, Saturn: Ratio: 0.40257976917854715\n",
      "Jupiter, Uranus: Ratio: 0.14117366980121412\n",
      "Jupiter, Neptune: Ratio: 0.07195728673704647\n",
      "Saturn, Mercury: Ratio: 122.75000000000001\n",
      "Saturn, Venus: Ratio: 49.1\n",
      "Saturn, Earth: Ratio: 29.46\n",
      "Saturn, Mars: Ratio: 15.670212765957448\n",
      "Saturn, Jupiter: Ratio: 2.4839797639123105\n",
      "Saturn, Uranus: Ratio: 0.35067253898345435\n",
      "Saturn, Neptune: Ratio: 0.17874044412085913\n",
      "Uranus, Mercury: Ratio: 350.0416666666667\n",
      "Uranus, Venus: Ratio: 140.01666666666668\n",
      "Uranus, Earth: Ratio: 84.01\n",
      "Uranus, Mars: Ratio: 44.686170212765965\n",
      "Uranus, Jupiter: Ratio: 7.083473861720068\n",
      "Uranus, Saturn: Ratio: 2.851663272233537\n",
      "Uranus, Neptune: Ratio: 0.5097075597621649\n",
      "Neptune, Mercury: Ratio: 686.75\n",
      "Neptune, Venus: Ratio: 274.7\n",
      "Neptune, Earth: Ratio: 164.82\n",
      "Neptune, Mars: Ratio: 87.67021276595744\n",
      "Neptune, Jupiter: Ratio: 13.897133220910623\n",
      "Neptune, Saturn: Ratio: 5.594704684317718\n",
      "Neptune, Uranus: Ratio: 1.9619092965123197\n"
     ]
    }
   ],
   "source": [
    "#3.c Compute the ratio of periods of the Galilean Moons. Is there anything conspicuous about the period ratios? Do any solar system objects seem to have a similar property?\n",
    "\n",
    "#Calculate the ratio of the periods of the Galilean Moons\n",
    "for item, index in galielan_moons.iterrows():\n",
    "  for item1, index1 in galielan_moons.iterrows():\n",
    "    if (index == index1).all():\n",
    "      continue \n",
    "\n",
    "    ratio = (float(index['Period (d)'])) / (float(index1['Period (d)']))\n",
    "    print(f'{index[\"Satellite Name\"]}, {index1[\"Satellite Name\"]}: Ratio: {ratio}')\n",
    "\n",
    "#Calculate the ratio of the periods of the planets\n",
    "for planet, period in planets.iterrows():\n",
    "  for planet1, period1 in planets.iterrows():\n",
    "    if (period == period1).any():\n",
    "      continue \n",
    "\n",
    "    ratio = float((float(period['Sidereal Period (y)'])) / (float(period1['Sidereal Period (y)'])))\n",
    "    print(f'{period[\"Major Planet\"]}, {period1[\"Major Planet\"]}: Ratio: {ratio}')"
   ]
  },
  {
   "attachments": {},
   "cell_type": "markdown",
   "metadata": {},
   "source": [
    "Continuation of Part C: \n",
    "There appears to be an orbital resonance with Jupiter's moons. Ganamyede has 1:2 resonance with Europa, and Europa has a 1:2 resonance with Io. \n",
    "\n",
    "I can't seem to find any similar occurances with planets in the solar system. After some external research, I learned that Pluto and Neptune have a 2:3 orbotal resonance, but Pluto isn't technically a planet. "
   ]
  }
 ],
 "metadata": {
  "kernelspec": {
   "display_name": "physics",
   "language": "python",
   "name": "python3"
  },
  "language_info": {
   "codemirror_mode": {
    "name": "ipython",
    "version": 3
   },
   "file_extension": ".py",
   "mimetype": "text/x-python",
   "name": "python",
   "nbconvert_exporter": "python",
   "pygments_lexer": "ipython3",
   "version": "3.10.9"
  },
  "orig_nbformat": 4
 },
 "nbformat": 4,
 "nbformat_minor": 2
}
