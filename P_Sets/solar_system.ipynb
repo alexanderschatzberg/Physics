{
 "cells": [
  {
   "cell_type": "code",
   "execution_count": 2,
   "metadata": {},
   "outputs": [],
   "source": [
    "import pandas as pd\n",
    "import numpy as np"
   ]
  },
  {
   "cell_type": "code",
   "execution_count": 47,
   "metadata": {},
   "outputs": [
    {
     "name": "stdout",
     "output_type": "stream",
     "text": [
      "The ratio of the mass of Io to the mass of Jupiter is: 4.804096663558344e-22\n",
      "The ratio of the mass of Europa to the mass of Jupiter is: 2.5793807589575e-22\n",
      "The ratio of the mass of Ganymede to the mass of Jupiter is: 7.963838093281282e-22\n",
      "The ratio of the mass of Callisto to the mass of Jupiter is: 5.787485577910891e-22\n",
      "The ratio of the mass of Mercury to the mass of the sun is: 1.6602312719959777e-07\n",
      "The ratio of the mass of Venus to the mass of the sun is: 2.4477124183006533e-06\n",
      "The ratio of the mass of Earth to the mass of the sun is: 3.002609351432881e-06\n",
      "The ratio of the mass of Mars to the mass of the sun is: 3.2269984917043736e-07\n",
      "The ratio of the mass of Jupiter to the mass of the sun is: 0.0009543137254901962\n",
      "The ratio of the mass of Saturn to the mass of the sun is: 0.00028573102061337354\n",
      "The ratio of the mass of Uranus to the mass of the sun is: 4.364519859225741e-05\n",
      "The ratio of the mass of Neptune to the mass of the sun is: 5.148818501759678e-05\n"
     ]
    }
   ],
   "source": [
    "#Problem 3: The Moons of Jupiter and the Planets \n",
    "\n",
    "#Load the Moons data \n",
    "moons = pd.read_csv('../Data/Moons.csv')\n",
    "\n",
    "#Filter galielan moons \n",
    "galielan_moons = moons[moons['Discovery'].str.contains('Galileo')]\n",
    "\n",
    "#Define masses of the planets and the sun \n",
    "sun_mass = 1.989 * (10**30)\n",
    "planet_mass_dict = {}\n",
    "planet_mass_dict['Mercury'] = 3.3022 * (10**23)\n",
    "planet_mass_dict['Venus'] = 4.8685 * (10**24)\n",
    "planet_mass_dict['Earth'] = 5.97219 * (10**24)\n",
    "planet_mass_dict['Mars'] = 6.4185 * (10**23)\n",
    "planet_mass_dict['Jupiter'] = 1.89813 * (10**27)\n",
    "planet_mass_dict['Saturn'] = 5.68319 * (10**26)\n",
    "planet_mass_dict['Uranus'] = 8.68103 * (10**25)\n",
    "planet_mass_dict['Neptune'] = 1.0241 * (10**26)\n",
    "\n",
    "# A: Compare the ratio of masses of the moons of Jupiter to the mass of Jupiter to the ratio of the masses of the planets to the mass of the sun.\n",
    "\n",
    "#Calculate the ratio of the mass of the moons of Jupiter to the mass of Jupiter\n",
    "for item, index in galielan_moons.iterrows():\n",
    "  jupiter_moon_ratio = (float(index['Mass (1020 kg)'])* 1020) / planet_mass_dict['Jupiter']\n",
    "  print(f'The ratio of the mass of{index[\"Satellite Name\"]} to the mass of Jupiter is: {str(jupiter_moon_ratio)}')\n",
    "\n",
    "#Calculate the ratio of the mass of the planets to the mass of the sun\n",
    "for planet, mass in planet_mass_dict.items():\n",
    "  planet_sun_ratio = mass / sun_mass\n",
    "  print(f'The ratio of the mass of {planet} to the mass of the Sun is: {str(planet_sun_ratio)}')"
   ]
  }
 ],
 "metadata": {
  "language_info": {
   "name": "python"
  },
  "orig_nbformat": 4
 },
 "nbformat": 4,
 "nbformat_minor": 2
}
