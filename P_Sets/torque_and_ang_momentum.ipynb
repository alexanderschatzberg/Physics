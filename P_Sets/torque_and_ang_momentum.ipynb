{
 "cells": [
  {
   "cell_type": "code",
   "execution_count": 22,
   "metadata": {},
   "outputs": [],
   "source": [
    "pi = 3.141592653589793"
   ]
  },
  {
   "cell_type": "code",
   "execution_count": 23,
   "metadata": {},
   "outputs": [],
   "source": [
    "class Body:\n",
    "  def __init__(self, orbital_period, rotational_period, radius, distance, mass, name):\n",
    "                    #Days             #Days            #km    #km         #kg\n",
    "    self.orbital_period = orbital_period\n",
    "    self.rotational_period = rotational_period\n",
    "    self.radius = radius\n",
    "    self.distance = distance\n",
    "    self.mass = mass\n",
    "    self.name = name\n",
    "    self.angularMomentum = self.calcAngularMomentum(); \n",
    "  \n",
    "  def calcAngularMomentum(self):\n",
    "    return self.calcOrbital() + self.calcRotational()\n",
    "  \n",
    "  def calcOrbital(self):\n",
    "    if (self.orbital_period == 0):\n",
    "      return 0\n",
    "    #L = Iw \n",
    "    w = (2*pi)/(self.orbital_period * 24 * 3600) #convert to seconds, rads/second\n",
    "    I = self.mass * (self.distance**2 * 1000) #kg*m^2\n",
    "    return w*I #kg * m^2 / second\n",
    "\n",
    "  def calcRotational(self):\n",
    "    w = (2*pi)/(self.rotational_period * 24 * 3600)\n",
    "    I = (2/5) * self.mass * (self.radius**2 * 1000); #account for dif moments of interta for differently dense objects \n",
    "    return w*I #kg*m^2/second"
   ]
  },
  {
   "cell_type": "code",
   "execution_count": 24,
   "metadata": {},
   "outputs": [],
   "source": [
    "class Container:\n",
    "  def __init__(self, obj):\n",
    "    self.arr = []\n",
    "    for item in obj:\n",
    "      self.arr.append(item)\n",
    "  \n",
    "  def toString(self):\n",
    "    self.arr.sort(key=lambda x: x.angularMomentum, reverse=True)\n",
    "    for item in self.arr:\n",
    "      print(item.name, item.angularMomentum, \"kg*m^2 per second\")\n",
    "    "
   ]
  },
  {
   "cell_type": "code",
   "execution_count": 25,
   "metadata": {},
   "outputs": [
    {
     "name": "stdout",
     "output_type": "stream",
     "text": [
      "Jupiter 1.930255439689307e+40 kg*m^2 per second\n",
      "Saturn 7.821460480891208e+39 kg*m^2 per second\n",
      "Neptune 2.5042902315232196e+39 kg*m^2 per second\n",
      "Uranus 1.6952810724447944e+39 kg*m^2 per second\n",
      "Sun 1.1195027151457237e+39 kg*m^2 per second\n",
      "Earth 2.6611592433313807e+37 kg*m^2 per second\n",
      "Venus 1.820082842006667e+37 kg*m^2 per second\n",
      "Mars 3.529573370656296e+36 kg*m^2 per second\n",
      "Mercury 9.151466356033467e+35 kg*m^2 per second\n",
      "Pluto 3.650202760965781e+35 kg*m^2 per second\n"
     ]
    }
   ],
   "source": [
    "sun = Body(0, 25, 695508, 0, 1.989e30, \"Sun\")\n",
    "mercury = Body(87.969, 58.646, 2439.7, 57909227, 3.3011e23, \"Mercury\")\n",
    "venus = Body(orbital_period=225, rotational_period=243, radius=6051.8, mass=4.8675e24, distance = 107.56 * 10**6, name = \"Venus\")\n",
    "earth = Body(365.256, 0.997, 6317, 149598262, 5.9724e24, \"Earth\")\n",
    "mars = Body(686.971, 1.027, 3389.5, 227943824, 6.4171e23, \"Mars\")\n",
    "jupiter = Body(4332.59, 0.414, 69911, 778340821, 1.8982e27, \"Jupiter\")\n",
    "saturn = Body(10755.7, 0.426, 58232, 1426666422, 5.6834e26, \"Saturn\")\n",
    "uranus = Body(30687.15, -0.718, 25362, 2870658186, 8.6810e25, \"Uranus\")\n",
    "neptune = Body(60190.03, 0.671, 24622, 4498396441, 1.0243e26, \"Neptune\")\n",
    "pluto = Body(90560, 6.387, 1188, 5906380624, 1.303e22, \"Pluto\") #not a planet, but still a considerable body in the solar system \n",
    "\n",
    "container = Container([sun, mercury, venus, earth, mars, jupiter, saturn, uranus, neptune, pluto])\n",
    "\n",
    "container.toString()"
   ]
  }
 ],
 "metadata": {
  "kernelspec": {
   "display_name": "physics",
   "language": "python",
   "name": "python3"
  },
  "language_info": {
   "codemirror_mode": {
    "name": "ipython",
    "version": 3
   },
   "file_extension": ".py",
   "mimetype": "text/x-python",
   "name": "python",
   "nbconvert_exporter": "python",
   "pygments_lexer": "ipython3",
   "version": "3.10.9"
  },
  "orig_nbformat": 4,
  "vscode": {
   "interpreter": {
    "hash": "8c0008a63cbce5541b622949efed1339d14e23e32a2f2a739ba9033548bd2f0e"
   }
  }
 },
 "nbformat": 4,
 "nbformat_minor": 2
}
