{
 "cells": [
  {
   "cell_type": "code",
   "execution_count": 2,
   "metadata": {},
   "outputs": [],
   "source": [
    "import numpy as np"
   ]
  },
  {
   "cell_type": "code",
   "execution_count": 3,
   "metadata": {},
   "outputs": [
    {
     "name": "stdout",
     "output_type": "stream",
     "text": [
      "0.2498855\n",
      "0.4998854868867469\n"
     ]
    }
   ],
   "source": [
    "#Problem 1a\n",
    "x = 0.129\n",
    "K = 100\n",
    "m = 2\n",
    "v = 3.415 \n",
    "\n",
    "A = (K * x**2 + m * v**2)/K\n",
    "\n",
    "print(A)\n",
    "\n",
    "A = np.sqrt(A)\n",
    "\n",
    "print(A)"
   ]
  },
  {
   "cell_type": "code",
   "execution_count": 11,
   "metadata": {},
   "outputs": [
    {
     "name": "stdout",
     "output_type": "stream",
     "text": [
      "7.0710678118654755\n",
      "X(t) 0.06826774647667488\n",
      "0.0665792483940233\n"
     ]
    }
   ],
   "source": [
    "#Problem 1b\n",
    "#x(t) = A * cos(omega * t + phi)\n",
    "#x(t) = xm * cos(phi)\n",
    "t = 1\n",
    "\n",
    "omega = np.sqrt(K/m)\n",
    "print(omega)\n",
    "phi = np.arctan((-1*v)/(omega*x)) - (omega*t)\n",
    "\n",
    "x_of_t = A * np.cos(omega * t + phi)\n",
    "\n",
    "print(f'X(t) {x_of_t}')\n",
    "\n",
    "print(x)"
   ]
  },
  {
   "cell_type": "code",
   "execution_count": null,
   "metadata": {},
   "outputs": [],
   "source": [
    "#Problem 2 \n",
    "#a(t) = a w^2 * cos(wt)\n",
    "\n"
   ]
  }
 ],
 "metadata": {
  "kernelspec": {
   "display_name": "Python 3.9.13 ('astropy-workshop-M1')",
   "language": "python",
   "name": "python3"
  },
  "language_info": {
   "codemirror_mode": {
    "name": "ipython",
    "version": 3
   },
   "file_extension": ".py",
   "mimetype": "text/x-python",
   "name": "python",
   "nbconvert_exporter": "python",
   "pygments_lexer": "ipython3",
   "version": "3.9.13"
  },
  "orig_nbformat": 4,
  "vscode": {
   "interpreter": {
    "hash": "131333597bd84980aacdf9c035c42dff7c62a0d4dfc91e80df0f29e0e9f434b7"
   }
  }
 },
 "nbformat": 4,
 "nbformat_minor": 2
}
