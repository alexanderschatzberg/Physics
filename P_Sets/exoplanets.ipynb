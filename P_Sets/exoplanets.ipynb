{
 "cells": [
  {
   "cell_type": "code",
   "execution_count": 3,
   "metadata": {},
   "outputs": [],
   "source": [
    "import numpy as np\n",
    "import matplotlib.pyplot as plt"
   ]
  },
  {
   "cell_type": "code",
   "execution_count": 2,
   "metadata": {},
   "outputs": [],
   "source": [
    "def kepler_third(G, M, P):\n",
    "  return (G*M*P**2/(4*np.pi**2))**(1/3)"
   ]
  },
  {
   "cell_type": "code",
   "execution_count": null,
   "metadata": {},
   "outputs": [],
   "source": [
    "#1.a\n",
    "\n",
    "#Mass hat16 = 1.22 ± 0/04 solar masses \n",
    "#Period hat16_b = 2.776 days \n",
    "\n",
    "#Kepler's third law: A^3 = (GM * P^2) / (4 * pi^2)\n",
    "\n",
    "sz = 10000000 #For the size of the normal distributions\n",
    "solar_mass_to_kg = 1.989 * (10**30) \n",
    "days_to_seconds = 86400 #Conversion factor from days to seconds\n",
    "\n",
    "mass_hat16 = 1.22 * solar_mass_to_kg\n",
    "mass_hat16_err = 0.04 * solar_mass_to_kg\n",
    "\n",
    "has16_dist = np.random.normal(mass_hat16, mass_hat16_err, sz) #Normal distribution for the mass of hat16\n",
    "\n",
    "period_hat16b = 2.776 #Days\n",
    "\n",
    "hat16b_semi_major_axis = kepler_third(6.67408 * (10**-11), has16_dist, period_hat16b * days_to_seconds) #Calculating the semi-major axis for hat16b\n",
    "\n",
    "plt.hist(hat16b_semi_major_axis, bins = 100, density = True)\n",
    "plt.xlabel(\"Semi-major axis (m)\")\n",
    "plt.ylabel(\"Probability density\")\n",
    "\n",
    "\n"
   ]
  }
 ],
 "metadata": {
  "kernelspec": {
   "display_name": "physics",
   "language": "python",
   "name": "python3"
  },
  "language_info": {
   "codemirror_mode": {
    "name": "ipython",
    "version": 3
   },
   "file_extension": ".py",
   "mimetype": "text/x-python",
   "name": "python",
   "nbconvert_exporter": "python",
   "pygments_lexer": "ipython3",
   "version": "3.10.9"
  },
  "orig_nbformat": 4
 },
 "nbformat": 4,
 "nbformat_minor": 2
}
