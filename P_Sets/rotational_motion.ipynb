{
 "cells": [
  {
   "cell_type": "code",
   "execution_count": 1,
   "metadata": {},
   "outputs": [],
   "source": [
    "import numpy as np"
   ]
  },
  {
   "cell_type": "code",
   "execution_count": 2,
   "metadata": {},
   "outputs": [
    {
     "name": "stdout",
     "output_type": "stream",
     "text": [
      "3.05\n",
      "0.06480740698407864\n"
     ]
    }
   ],
   "source": [
    "#Calculate the mean and std of my measurements of Sedykh's throw \n",
    "t_arr = np.array([3.07, 3.15, 3.08, 3.05, 2.92, 3.05, 2.98, 3.03, 3.14, 3.03])\n",
    "\n",
    "print(np.mean(t_arr))\n",
    "print(np.std(t_arr))"
   ]
  }
 ],
 "metadata": {
  "kernelspec": {
   "display_name": "physics",
   "language": "python",
   "name": "python3"
  },
  "language_info": {
   "codemirror_mode": {
    "name": "ipython",
    "version": 3
   },
   "file_extension": ".py",
   "mimetype": "text/x-python",
   "name": "python",
   "nbconvert_exporter": "python",
   "pygments_lexer": "ipython3",
   "version": "3.10.9"
  },
  "orig_nbformat": 4,
  "vscode": {
   "interpreter": {
    "hash": "8c0008a63cbce5541b622949efed1339d14e23e32a2f2a739ba9033548bd2f0e"
   }
  }
 },
 "nbformat": 4,
 "nbformat_minor": 2
}
