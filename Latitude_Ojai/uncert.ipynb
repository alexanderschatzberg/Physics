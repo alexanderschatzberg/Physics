{
 "cells": [
  {
   "cell_type": "code",
   "execution_count": 31,
   "metadata": {},
   "outputs": [],
   "source": [
    "import uncertainties as unc\n",
    "import numpy as np\n",
    "from uncertainties.umath import *\n",
    "import matplotlib.pyplot as plt"
   ]
  },
  {
   "cell_type": "code",
   "execution_count": 28,
   "metadata": {},
   "outputs": [
    {
     "name": "stdout",
     "output_type": "stream",
     "text": [
      "[20.2+/-0.1, 21.1+/-0.1, 20.6+/-0.1, 20.5+/-0.1, 20.5+/-0.1, 20.9+/-0.1] [26.6+/-0.1, 26.7+/-0.1, 26.5+/-0.1, 26.6+/-0.1, 26.6+/-0.1, 26.5+/-0.1]\n",
      "[34.06394775937069+/-0.1677342428562863, 35.145891893556716+/-0.1650754550081062, 34.69712006893107+/-0.1671775890631499, 34.46272176996963+/-0.1669903549574189, 34.46272176996963+/-0.1669903549574189, 35.09111501326996+/-0.16642640772270537]\n",
      "34.65+/-0.07\n"
     ]
    }
   ],
   "source": [
    "sun_dec = unc.ufloat(-1.12317908, 0.00000001)\n",
    "sun_ra = unc.ufloat(182.5928726, 0.0000001)\n",
    "\n",
    "shadow_error = 0.1 #cm\n",
    "shadow_lengths = [20.2, 21.1, 20.6, 20.5, 20.5, 20.9] #cm \n",
    "stick_error = 0.1 #cm\n",
    "stick_lengths = [26.6, 26.7, 26.5, 26.6, 26.6, 26.5]\n",
    "\n",
    "shadows_ufloat = []\n",
    "sticks_ufloat = []\n",
    "\n",
    "for i in range(len(shadow_lengths)):\n",
    "    shadows_ufloat.append(unc.ufloat(shadow_lengths[i], shadow_error))\n",
    "    sticks_ufloat.append(unc.ufloat(stick_lengths[i], stick_error))\n",
    "\n",
    "print(shadows_ufloat, sticks_ufloat)\n",
    "\n",
    "latitudes_ufloat = []\n",
    "for i in range(len(shadows_ufloat)):\n",
    "    lat = atan(cos(sun_ra) * shadows_ufloat[i] / sticks_ufloat[i]) * (180/np.pi) + sun_dec\n",
    "    latitudes_ufloat.append(lat)\n",
    "\n",
    "print(latitudes_ufloat)\n",
    "\n",
    "lat_avg = 0\n",
    "for i in range(len(latitudes_ufloat)):\n",
    "    lat_avg += latitudes_ufloat[i]\n",
    "\n",
    "lat_avg /= len(latitudes_ufloat); \n",
    "print(lat_avg)\n",
    "\n",
    "\n"
   ]
  }
 ],
 "metadata": {
  "kernelspec": {
   "display_name": "Python 3.9.13 ('astropy-workshop-M1')",
   "language": "python",
   "name": "python3"
  },
  "language_info": {
   "codemirror_mode": {
    "name": "ipython",
    "version": 3
   },
   "file_extension": ".py",
   "mimetype": "text/x-python",
   "name": "python",
   "nbconvert_exporter": "python",
   "pygments_lexer": "ipython3",
   "version": "3.9.13"
  },
  "orig_nbformat": 4,
  "vscode": {
   "interpreter": {
    "hash": "131333597bd84980aacdf9c035c42dff7c62a0d4dfc91e80df0f29e0e9f434b7"
   }
  }
 },
 "nbformat": 4,
 "nbformat_minor": 2
}
