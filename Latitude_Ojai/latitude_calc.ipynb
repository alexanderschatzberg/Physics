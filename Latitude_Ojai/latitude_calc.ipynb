{
 "cells": [
  {
   "cell_type": "code",
   "execution_count": 5,
   "metadata": {},
   "outputs": [],
   "source": [
    "import numpy as np\n",
    "import matplotlib.pyplot as plt\n",
    "from astropy import units as u\n",
    "from astropy.coordinates import get_sun\n",
    "import time\n",
    "from astropy.time import Time\n",
    "from astropy.coordinates import FK5\n",
    "from astropy.coordinates import SkyCoord\n",
    "import random"
   ]
  },
  {
   "cell_type": "code",
   "execution_count": 20,
   "metadata": {},
   "outputs": [
    {
     "name": "stdout",
     "output_type": "stream",
     "text": [
      "-0d49m52.12601791s\n"
     ]
    }
   ],
   "source": [
    "#Get declination and right ascension of the sun at a given time\n",
    "time1 = Time('2022-9-25 12:00:00') #The time\n",
    "sun = get_sun(time1)\n",
    "\n",
    "sun_coord = SkyCoord(ra=sun.ra.degree*u.degree, dec=sun.dec.degree*u.degree, frame='icrs') #transform the sun coordinates to FK5\n",
    "sun_coord.galactic\n",
    "sun_coord.transform_to(FK5(equinox='J2022.9'))\n",
    "\n",
    "print(sun_coord.dec)"
   ]
  },
  {
   "cell_type": "code",
   "execution_count": null,
   "metadata": {},
   "outputs": [],
   "source": [
    "#mean and standard deviation of the measured lengths of the shadow and stick \n",
    "\n",
    "#measurments of the shadow and stick\n",
    "sigma = 0.25 #cm\n",
    "shadow_lengths = [20.2, 21.1, 20.6, 20.5, 20.5, 20.9] #cm \n",
    "n_shadow = len(shadow_lengths); \n",
    "\n",
    "stick_error = 0.25 #cm\n",
    "stick_lengths = [26.6, 26.7, 26.5, 26.6, 26.6, 26.5]\n",
    "n_stick = len(stick_lengths)\n",
    "\n",
    "#calculate the mean and standard deviation of the shadow and stick\n",
    "shadow_mean = np.mean(shadow_lengths)\n",
    "shadow_std = np.std(shadow_lengths)\n",
    "stick_mean = np.mean(stick_lengths)\n",
    "stick_std = np.std(stick_lengths)\n",
    "\n",
    "# Stick plot\n",
    "plt.ion\n",
    "plt.figure(3)\n",
    "plt.clf()\n",
    "plt.errorbar(np.arange(n_stick)+1,stick_lengths,yerr=np.ones(n_stick)*sigma,fmt='o',color='black')\n",
    "plt.axhline(y=stick_mean,linestyle='--',color='red')\n",
    "plt.title(str(n_stick)+' \"measurements\" with mean of '+str(stick_mean)+' and error of '+str(sigma))\n",
    "plt.xlabel('Measurement Number')\n",
    "plt.ylabel('Value and error')\n",
    "plt.title('Stick Lengths')\n",
    "\n",
    "# Shadow plot\n",
    "plt.figure(4)\n",
    "plt.clf()\n",
    "plt.errorbar(np.arange(n_shadow)+1,shadow_lengths,yerr=np.ones(n_shadow)*sigma,fmt='o',color='black')\n",
    "plt.axhline(y=shadow_mean,linestyle='--',color='red')\n",
    "plt.title(str(n_shadow)+' \"measurements\" with mean of '+str(shadow_mean)+' and error of '+str(sigma))\n",
    "plt.xlabel('Measurement Number')\n",
    "plt.ylabel('Value and error')\n",
    "plt.title('Shadow Lengths')\n",
    "\n"
   ]
  },
  {
   "cell_type": "code",
   "execution_count": 27,
   "metadata": {},
   "outputs": [
    {
     "name": "stdout",
     "output_type": "stream",
     "text": [
      "[0.9840457  0.97579027 0.9734417  0.97969353 0.97969353 0.96908953]\n"
     ]
    }
   ],
   "source": [
    "#Calculate the latitude of Ojai\n",
    "true_value = 34.44583333333333\n",
    "\n",
    "sun_ra = sun_coord.ra.degree #right ascension of the sun in degrees\n",
    "sun_dec = sun_coord.dec.degree #declination of the sun in degrees\n",
    "\n",
    "\n",
    "\n",
    "#Calculate the latitude of Ojai\n",
    "def latitude_calc(shadow_lengths, stick_lengths, sun_ra, sun_dec):\n",
    "    shadow_lengths = np.array(shadow_lengths)\n",
    "    stick_lengths = np.array(stick_lengths)\n",
    "    latitude = (shadow_lengths - stick_lengths)*np.tan(np.radians(sun_dec)) + stick_lengths*np.tan(np.radians(sun_ra))\n",
    "    return latitude\n",
    "\n",
    "x = latitude_calc(shadow_lengths, stick_lengths, sun_ra, sun_dec); #calculate the latitude of Ojai\n",
    "print(x)\n",
    "\n"
   ]
  }
 ],
 "metadata": {
  "kernelspec": {
   "display_name": "Python 3.9.13 ('astropy-workshop-M1')",
   "language": "python",
   "name": "python3"
  },
  "language_info": {
   "codemirror_mode": {
    "name": "ipython",
    "version": 3
   },
   "file_extension": ".py",
   "mimetype": "text/x-python",
   "name": "python",
   "nbconvert_exporter": "python",
   "pygments_lexer": "ipython3",
   "version": "3.9.13"
  },
  "orig_nbformat": 4,
  "vscode": {
   "interpreter": {
    "hash": "131333597bd84980aacdf9c035c42dff7c62a0d4dfc91e80df0f29e0e9f434b7"
   }
  }
 },
 "nbformat": 4,
 "nbformat_minor": 2
}
