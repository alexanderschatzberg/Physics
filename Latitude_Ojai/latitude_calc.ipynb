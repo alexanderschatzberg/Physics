{
 "cells": [
  {
   "cell_type": "code",
   "execution_count": 2,
   "metadata": {},
   "outputs": [],
   "source": [
    "import numpy as np\n",
    "import matplotlib.pyplot as plt\n",
    "from astropy import units as u\n",
    "from astropy.coordinates import get_sun\n",
    "import time\n",
    "from astropy.time import Time\n",
    "from astropy.coordinates import FK5\n",
    "from astropy.coordinates import SkyCoord\n",
    "import random"
   ]
  },
  {
   "cell_type": "code",
   "execution_count": 3,
   "metadata": {},
   "outputs": [
    {
     "name": "stdout",
     "output_type": "stream",
     "text": [
      "-0d49m52.1097834s\n"
     ]
    }
   ],
   "source": [
    "#Get declination and right ascension of the sun at a given time\n",
    "time1 = Time('2022-9-25 12:00:00') #The time\n",
    "sun = get_sun(time1)\n",
    "\n",
    "sun_coord = SkyCoord(ra=sun.ra.degree*u.degree, dec=sun.dec.degree*u.degree, frame='icrs') #transform the sun coordinates to FK5\n",
    "sun_coord.galactic\n",
    "sun_coord.transform_to(FK5(equinox='J2022.9'))\n",
    "\n",
    "print(sun_coord.dec)"
   ]
  },
  {
   "cell_type": "code",
   "execution_count": null,
   "metadata": {},
   "outputs": [],
   "source": [
    "#mean and standard deviation of the measured lengths of the shadow and stick \n",
    "\n",
    "#measurments of the shadow and stick\n",
    "sigma = 0.25 #cm\n",
    "shadow_lengths = [20.2, 21.1, 20.6, 20.5, 20.5, 20.9] #cm \n",
    "n_shadow = len(shadow_lengths); \n",
    "\n",
    "stick_error = 0.25 #cm\n",
    "stick_lengths = [26.6, 26.7, 26.5, 26.6, 26.6, 26.5]\n",
    "n_stick = len(stick_lengths)\n",
    "\n",
    "#calculate the mean and standard deviation of the shadow and stick\n",
    "shadow_mean = np.mean(shadow_lengths)\n",
    "shadow_std = np.std(shadow_lengths)\n",
    "stick_mean = np.mean(stick_lengths)\n",
    "stick_std = np.std(stick_lengths)\n",
    "\n",
    "# Stick plot\n",
    "plt.ion\n",
    "plt.figure(1)\n",
    "plt.clf()\n",
    "plt.errorbar(np.arange(n_stick)+1,stick_lengths,yerr=np.ones(n_stick)*sigma,fmt='o',color='black')\n",
    "plt.axhline(y=stick_mean,linestyle='--',color='red')\n",
    "plt.title(str(n_stick)+' \"measurements\" with mean of '+str(stick_mean)+' and error of '+str(sigma))\n",
    "plt.xlabel('Measurement Number')\n",
    "plt.ylabel('Value and error')\n",
    "plt.title('Stick Lengths')\n",
    "\n",
    "# Shadow plot\n",
    "plt.figure(2)\n",
    "plt.clf()\n",
    "plt.errorbar(np.arange(n_shadow)+1,shadow_lengths,yerr=np.ones(n_shadow)*sigma,fmt='o',color='black')\n",
    "plt.axhline(y=shadow_mean,linestyle='--',color='red')\n",
    "plt.title(str(n_shadow)+' \"measurements\" with mean of '+str(shadow_mean)+' and error of '+str(sigma))\n",
    "plt.xlabel('Measurement Number')\n",
    "plt.ylabel('Value and error')\n",
    "plt.title('Shadow Lengths')\n",
    "\n",
    "#get the new values \n",
    "stick_length = np.random.normal(stick_mean, stick_std, 10000000)\n",
    "shadow_length = np.random.normal(shadow_mean, shadow_std, 10000000)\n",
    "\n",
    "plt.figure(3)\n",
    "plt.hist(stick_length, bins=1000)\n",
    "plt.hist(shadow_length, bins=1000)\n",
    "plt.xlabel('Length (cm)')\n",
    "plt.ylabel('Probability')\n",
    "plt.title('Histogram of Stick and Shadow Lengths')"
   ]
  },
  {
   "cell_type": "code",
   "execution_count": 11,
   "metadata": {},
   "outputs": [],
   "source": [
    "#formula to calculate the latitude of Ojai\n",
    "# Latitude = arctan (cos(RA) * shadow_length / stick_length) * pi/180 + Dec\n",
    "\n",
    "def latitude_calc(stick_length, shadow_length, sun_dec, sun_ra):\n",
    "    latitude = np.arctan(np.cos(sun_ra) * shadow_length / stick_length) * 180 / np.pi + sun_dec\n",
    "    return latitude\n"
   ]
  },
  {
   "cell_type": "code",
   "execution_count": 12,
   "metadata": {},
   "outputs": [
    {
     "name": "stdout",
     "output_type": "stream",
     "text": [
      "[36.14532924 35.38148514 35.70150326 ... 36.20397011 35.72113623\n",
      " 36.47844971]\n"
     ]
    }
   ],
   "source": [
    "#Calculate the latitude of Ojai\n",
    "true_value = 34.44583333333333\n",
    "\n",
    "sun_ra = sun_coord.ra.degree #right ascension of the sun in degrees\n",
    "sun_dec = sun_coord.dec.degree #declination of the sun in degrees\n",
    "stick_length = np.random.normal(stick_mean, stick_std, 10000000)\n",
    "shadow_length = np.random.normal(shadow_mean, shadow_std, 10000000)\n",
    "\n",
    "x = latitude_calc(stick_length, shadow_length, sun_dec, sun_ra)\n",
    "print()\n",
    "\n"
   ]
  }
 ],
 "metadata": {
  "kernelspec": {
   "display_name": "Python 3.9.13 ('astropy-workshop-M1')",
   "language": "python",
   "name": "python3"
  },
  "language_info": {
   "codemirror_mode": {
    "name": "ipython",
    "version": 3
   },
   "file_extension": ".py",
   "mimetype": "text/x-python",
   "name": "python",
   "nbconvert_exporter": "python",
   "pygments_lexer": "ipython3",
   "version": "3.9.13"
  },
  "orig_nbformat": 4,
  "vscode": {
   "interpreter": {
    "hash": "131333597bd84980aacdf9c035c42dff7c62a0d4dfc91e80df0f29e0e9f434b7"
   }
  }
 },
 "nbformat": 4,
 "nbformat_minor": 2
}
