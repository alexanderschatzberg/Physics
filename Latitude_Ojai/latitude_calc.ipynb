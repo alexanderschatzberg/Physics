{
 "cells": [
  {
   "cell_type": "code",
   "execution_count": 1,
   "metadata": {},
   "outputs": [],
   "source": [
    "import numpy as np\n",
    "import matplotlib.pyplot as plt\n",
    "from astropy import units as u\n",
    "from astropy.coordinates import get_sun\n",
    "from astropy.time import Time\n",
    "from astropy.coordinates import FK5\n",
    "from astropy.coordinates import SkyCoord"
   ]
  },
  {
   "cell_type": "code",
   "execution_count": 2,
   "metadata": {},
   "outputs": [
    {
     "name": "stdout",
     "output_type": "stream",
     "text": [
      "Copy Method:  182.21237755139268 deg2 -0.9585435276974851 deg2\n",
      "Native Transform <SkyCoord (ICRS): (ra, dec) in deg\n",
      "    (181.91889427, -0.83114161)>\n"
     ]
    }
   ],
   "source": [
    "#Get declination and right ascension of the sun at a given time\n",
    "time1 = Time('2022-9-25 12:00:00') #The time\n",
    "sun = get_sun(time1)\n",
    "\n",
    "sun_coord = SkyCoord(ra=sun.ra.degree*u.degree, dec=sun.dec.degree*u.degree, frame='icrs') #transform the sun coordinates to FK5\n",
    "sun_coord.galactic\n",
    "\n",
    "sun_coord_fk5 = sun_coord.transform_to(FK5(equinox='J2022.9')) #precess to a different equinox\n",
    "sun_coord.transform_to(FK5(equinox='J2022.9'))\n",
    "\n",
    "print(\"Copy Method: \", sun_coord_fk5.ra*u.degree, sun_coord_fk5.dec*u.degree)\n",
    "print(\"Native Transform\", sun_coord)"
   ]
  },
  {
   "cell_type": "code",
   "execution_count": null,
   "metadata": {},
   "outputs": [],
   "source": [
    "#formula to calculate the latitude of Ojai\n",
    "# Latitude = arctan (cos(RA) * shadow_length / stick_length) * pi/180 + Dec\n",
    "\n",
    "def latitude_calc(stick_length, shadow_length, sun_dec, sun_ra):\n",
    "    latitude = np.arctan(np.cos(sun_ra) * shadow_length / stick_length) * (180/np.pi) + sun_dec\n",
    "    return latitude\n"
   ]
  },
  {
   "cell_type": "code",
   "execution_count": null,
   "metadata": {},
   "outputs": [],
   "source": [
    "#mean and standard deviation of the measured lengths of the shadow and stick \n",
    "\n",
    "#measurments of the shadow and stick\n",
    "shadow_error = 0.1 #cm\n",
    "shadow_lengths = [20.2, 21.1, 20.6, 20.5, 20.5, 20.9] #cm \n",
    "stick_error = 0.1 #cm\n",
    "stick_lengths = [26.6, 26.7, 26.5, 26.6, 26.6, 26.5]\n",
    "\n",
    "sun_ra = sun_coord.ra.degree #right ascension of the sun in degrees\n",
    "\n",
    "sun_dec = sun_coord.dec.degree #declination of the sun in degrees\n",
    "\n",
    "#calculate the latitude for each of these measuremnts \n",
    "latitudes = []\n",
    "for i in range(len(shadow_lengths)):\n",
    "    lat = latitude_calc(stick_lengths[i], shadow_lengths[i], sun_dec, sun_ra)\n",
    "    print(stick_lengths[i], shadow_lengths[i], sun_dec, sun_ra)\n",
    "    latitudes.append(lat)\n",
    "\n",
    "print(latitudes)\n"
   ]
  },
  {
   "cell_type": "code",
   "execution_count": null,
   "metadata": {},
   "outputs": [],
   "source": [
    "#Calculate the error propagation for the latitude\n",
    "def calc_error(stick_length, stick_error, shadow_length, shadow_error, sun_dec, sun_ra):\n",
    "    latitude = latitude_calc(stick_length, shadow_length, sun_dec, sun_ra)\n",
    "    error = np.std(latitude)\n",
    "    return error\n",
    "\n",
    "#calculate the error for each of the measurements\n",
    "errors = []\n",
    "for i in range(len(shadow_lengths)):\n",
    "    error = calc_error(stick_lengths[i], stick_error, shadow_lengths[i], shadow_error, sun_dec, sun_ra)\n",
    "    errors.append(error)\n",
    "\n",
    "print(errors)\n",
    "\n",
    "\n",
    "plt.figure(1)\n",
    "for i in range(len(latitudes)):\n",
    "    plt.hist(np.random.normal(latitudes[i], errors[i], 1000000), bins=100, alpha=0.5, label='Measurement ' + str(i+1))\n",
    "\n",
    "final = []\n",
    "i = 0\n",
    "for val in latitudes:\n",
    "    if i == 0:\n",
    "        final = np.random.normal(val,0.5,1000000)\n",
    "    else:\n",
    "        final += np.random.normal(val,0.5,1000000)\n",
    "    i += 1\n",
    "\n",
    "final /= np.float(len(latitudes))\n",
    "plt.hist(final,bins=100,alpha=1,color='black',density=True)\n",
    "\n",
    "plt.show()\n"
   ]
  },
  {
   "cell_type": "code",
   "execution_count": null,
   "metadata": {},
   "outputs": [],
   "source": [
    "plt.figure(2)\n",
    "sigma = 0.5\n",
    "sz = 1000000\n",
    "bins = 100\n",
    "numbers = latitudes\n",
    "mean = np.mean(latitudes)\n",
    "n = len(latitudes)\n",
    "\n",
    "plt.clf()\n",
    "for val in numbers:\n",
    "    plt.hist(np.random.normal(val,sigma,sz),bins=bins,alpha=0.75,density=True)\n",
    "\n",
    "plt.xlabel('Actual Value')\n",
    "plt.ylabel('Probability Density')\n",
    "plt.title('distributions representing '+str(n)+' measurements')\n",
    "\n",
    "# -- Take the mean of all these distributions\n",
    "final = []\n",
    "i = 0\n",
    "for val in numbers:\n",
    "    if i == 0:\n",
    "        final = np.random.normal(val,sigma,sz)\n",
    "    else:\n",
    "        final += np.random.normal(val,sigma,sz)\n",
    "    i += 1\n",
    "    \n",
    "final /= np.float(n)\n",
    "\n",
    "plt.figure(4)\n",
    "plt.hist(final,bins=bins,alpha=1,color='black',density=True)\n",
    "plt.axvline(x=mean,linestyle='--',color='red')\n",
    "\n",
    "print('The mean and standard deviation of the measurements: %.2f +/- %.2f'%(mean,sigma))\n",
    "print('The mean and standard deviation of the mean of the measurements: %.2f +/- %.2f'% \\\n",
    "      (np.mean(final),np.std(final,ddof=1)))"
   ]
  },
  {
   "cell_type": "code",
   "execution_count": null,
   "metadata": {},
   "outputs": [],
   "source": [
    "sz = 1000000\n",
    "astropy_error = 0.00000001\n",
    "\n",
    "sun_ra_dist = np.random.normal(sun_dec, astropy_error, sz)\n",
    "sun_dec_dist = np.random.normal(sun_ra, astropy_error, sz)\n",
    "\n",
    "plt.figure(3)\n",
    "stick_lengths_dist = []\n",
    "shadow_lengths_dist = []\n",
    "for i in range(len(stick_lengths)):\n",
    "    stick_lengths_dist.append(np.random.normal(stick_lengths[i], stick_error, sz))\n",
    "    shadow_lengths_dist.append(np.random.normal(shadow_lengths[i], shadow_error, sz))\n",
    "    plt.hist(stick_lengths_dist[i], bins=100, alpha=0.5, label='Stick Length ' + str(i+1))\n",
    "    plt.hist(shadow_lengths_dist[i], bins=100, alpha=0.5, label='Shadow Length ' + str(i+1))\n",
    "\n",
    "plt.show()\n",
    "plt.figure(4)\n",
    "\n",
    "latitudes_dist = []\n",
    "for i in range(len(stick_lengths)):\n",
    "    latitudes_dist.append(latitude_calc(stick_lengths_dist[i], shadow_lengths_dist[i], sun_dec_dist, sun_ra_dist))\n",
    "    plt.hist(latitudes_dist[i], bins=100, alpha=0.5, label='Measurement ' )\n",
    "\n",
    "plt.show()\n"
   ]
  },
  {
   "cell_type": "code",
   "execution_count": null,
   "metadata": {},
   "outputs": [],
   "source": [
    "#Help from doc swift\n",
    "a = np.random.normal(100, .1, 1000000)\n",
    "b = np.random.normal(150, .5, 1000000)\n",
    "\n",
    "plt.figure(1)\n",
    "plt.hist(a, bins=200, density=True)\n",
    "#plt.hist(b/1e6, bins=100)\n",
    "#plt.hist((a+b)/1e6, bins=100)\n",
    "#c = a+b\n",
    "print(len(a), len(b), len(c))\n",
    "plt.show()\n",
    "\n",
    "plt.figure(2)\n",
    "plt.hist(b, bins=200, density=True)\n",
    "plt.show()\n",
    "\n",
    "plt.figure(3)\n",
    "plt.hist(a+b, bins=200, density=True)"
   ]
  }
 ],
 "metadata": {
  "kernelspec": {
   "display_name": "Python 3.9.13 ('astropy-workshop-M1')",
   "language": "python",
   "name": "python3"
  },
  "language_info": {
   "codemirror_mode": {
    "name": "ipython",
    "version": 3
   },
   "file_extension": ".py",
   "mimetype": "text/x-python",
   "name": "python",
   "nbconvert_exporter": "python",
   "pygments_lexer": "ipython3",
   "version": "3.9.13"
  },
  "orig_nbformat": 4,
  "vscode": {
   "interpreter": {
    "hash": "131333597bd84980aacdf9c035c42dff7c62a0d4dfc91e80df0f29e0e9f434b7"
   }
  }
 },
 "nbformat": 4,
 "nbformat_minor": 2
}
