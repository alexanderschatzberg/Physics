{
 "cells": [
  {
   "cell_type": "code",
   "execution_count": 12,
   "metadata": {},
   "outputs": [],
   "source": [
    "import numpy as np\n",
    "import matplotlib as plt\n",
    "from astropy import units as u\n",
    "from astropy.coordinates import get_sun\n",
    "import time\n",
    "from astropy.time import Time\n",
    "from astropy.coordinates import FK5\n",
    "from astropy.coordinates import SkyCoord"
   ]
  },
  {
   "cell_type": "code",
   "execution_count": 19,
   "metadata": {},
   "outputs": [
    {
     "name": "stdout",
     "output_type": "stream",
     "text": [
      "<SkyCoord (ICRS): (ra, dec) in deg\n",
      "    (181.91889427, -0.83114161)>\n"
     ]
    }
   ],
   "source": [
    "time1 = Time('2022-9-25 12:00:00')\n",
    "sun = get_sun(time1)\n",
    "\n",
    "sun_coord = SkyCoord(ra=sun.ra.degree*u.degree, dec=sun.dec.degree*u.degree, frame='icrs')\n",
    "sun_coord.galactic\n",
    "sun_coord.transform_to(FK5(equinox='J2022.9'))\n",
    "\n",
    "print(sun_coord)\n"
   ]
  },
  {
   "cell_type": "code",
   "execution_count": 4,
   "metadata": {},
   "outputs": [
    {
     "name": "stdout",
     "output_type": "stream",
     "text": [
      "[36.86989764584402, 37.799022073976346, 36.86989764584402, 38.542182101310395, 37.84218698638419, 38.42216640024387]\n"
     ]
    },
    {
     "ename": "AttributeError",
     "evalue": "module 'matplotlib' has no attribute 'hist'",
     "output_type": "error",
     "traceback": [
      "\u001b[0;31m---------------------------------------------------------------------------\u001b[0m",
      "\u001b[0;31mAttributeError\u001b[0m                            Traceback (most recent call last)",
      "Cell \u001b[0;32mIn [4], line 22\u001b[0m\n\u001b[1;32m     17\u001b[0m     angle_pdf\u001b[38;5;241m.\u001b[39mappend(np\u001b[38;5;241m.\u001b[39marctan(length_shadow_pdf[i]\u001b[38;5;241m/\u001b[39mlength_object_pdf[i]) \u001b[38;5;241m*\u001b[39m \u001b[38;5;241m180\u001b[39m\u001b[38;5;241m/\u001b[39mnp\u001b[38;5;241m.\u001b[39mpi)\n\u001b[1;32m     19\u001b[0m \u001b[38;5;28mprint\u001b[39m(angle)\n\u001b[0;32m---> 22\u001b[0m plt\u001b[38;5;241m.\u001b[39mhist(angle_pdf[\u001b[38;5;241m0\u001b[39m], bins\u001b[38;5;241m=\u001b[39m\u001b[38;5;241m10000\u001b[39m)\n\u001b[1;32m     23\u001b[0m plt\u001b[38;5;241m.\u001b[39mhist(angle_pdf[\u001b[38;5;241m1\u001b[39m], bins\u001b[38;5;241m=\u001b[39m\u001b[38;5;241m10000\u001b[39m)\n\u001b[1;32m     24\u001b[0m plt\u001b[38;5;241m.\u001b[39mhist(angle_pdf[\u001b[38;5;241m0\u001b[39m] \u001b[38;5;241m/\u001b[39m angle_pdf[\u001b[38;5;241m1\u001b[39m], bins\u001b[38;5;241m=\u001b[39m\u001b[38;5;241m10000\u001b[39m)\n",
      "File \u001b[0;32m~/opt/anaconda3/envs/astropy-workshop-M1/lib/python3.9/site-packages/matplotlib/_api/__init__.py:224\u001b[0m, in \u001b[0;36mcaching_module_getattr.<locals>.__getattr__\u001b[0;34m(name)\u001b[0m\n\u001b[1;32m    222\u001b[0m \u001b[39mif\u001b[39;00m name \u001b[39min\u001b[39;00m props:\n\u001b[1;32m    223\u001b[0m     \u001b[39mreturn\u001b[39;00m props[name]\u001b[39m.\u001b[39m\u001b[39m__get__\u001b[39m(instance)\n\u001b[0;32m--> 224\u001b[0m \u001b[39mraise\u001b[39;00m \u001b[39mAttributeError\u001b[39;00m(\n\u001b[1;32m    225\u001b[0m     \u001b[39mf\u001b[39m\u001b[39m\"\u001b[39m\u001b[39mmodule \u001b[39m\u001b[39m{\u001b[39;00m\u001b[39mcls\u001b[39m\u001b[39m.\u001b[39m\u001b[39m__module__\u001b[39m\u001b[39m!r}\u001b[39;00m\u001b[39m has no attribute \u001b[39m\u001b[39m{\u001b[39;00mname\u001b[39m!r}\u001b[39;00m\u001b[39m\"\u001b[39m)\n",
      "\u001b[0;31mAttributeError\u001b[0m: module 'matplotlib' has no attribute 'hist'"
     ]
    }
   ],
   "source": [
    "\n",
    "length_shadow = [22.5, 22.3, 22.5, 23.7, 23.5, 23.4]\n",
    "length_object = [30.0, 28.75, 30.0, 29.75, 30.25, 29.5]\n",
    "\n",
    "x = 100000\n",
    "length_shadow_pdf = [np.random.normal(22.5, 0.25, x), np.random.normal(22.3, 0.25, x), np.random.normal(22.5, 0.25, x), np.random.normal(23.7, 0.25, x), np.random.normal(23.5, 0.25, x), np.random.normal(23.4, 0.25, x)]\n",
    "length_object_pdf = [np.random.normal(30.0, 0.25, x), np.random.normal(28.75, 0.25, x), np.random.normal(30.0, 0.25, x), np.random.normal(29.75, 0.25, x), np.random.normal(30.25, 0.25, x), np.random.normal(29.5, 0.25, x)]\n",
    "\n",
    "\n",
    "angle = []\n",
    "\n",
    "for i in range(len(length_shadow)):\n",
    "    angle.append(np.arctan(length_shadow[i]/length_object[i]) * 180/np.pi)\n",
    "\n",
    "angle_pdf = []\n",
    "\n",
    "for i in range(len(length_shadow_pdf)):\n",
    "    angle_pdf.append(np.arctan(length_shadow_pdf[i]/length_object_pdf[i]) * 180/np.pi)\n",
    "\n",
    "print(angle)\n",
    "\n",
    "\n",
    "plt.hist(angle_pdf[0], bins=10000)\n",
    "plt.hist(angle_pdf[1], bins=10000)\n",
    "plt.hist(angle_pdf[0] / angle_pdf[1], bins=10000)\n",
    "plt.show()\n"
   ]
  }
 ],
 "metadata": {
  "kernelspec": {
   "display_name": "Python 3.9.13 ('astropy-workshop-M1')",
   "language": "python",
   "name": "python3"
  },
  "language_info": {
   "codemirror_mode": {
    "name": "ipython",
    "version": 3
   },
   "file_extension": ".py",
   "mimetype": "text/x-python",
   "name": "python",
   "nbconvert_exporter": "python",
   "pygments_lexer": "ipython3",
   "version": "3.9.13"
  },
  "orig_nbformat": 4,
  "vscode": {
   "interpreter": {
    "hash": "131333597bd84980aacdf9c035c42dff7c62a0d4dfc91e80df0f29e0e9f434b7"
   }
  }
 },
 "nbformat": 4,
 "nbformat_minor": 2
}
